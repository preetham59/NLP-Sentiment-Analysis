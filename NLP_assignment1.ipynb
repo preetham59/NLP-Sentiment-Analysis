{
  "nbformat": 4,
  "nbformat_minor": 0,
  "metadata": {
    "colab": {
      "name": "NLP assignment.ipynb",
      "provenance": []
    },
    "kernelspec": {
      "name": "python3",
      "display_name": "Python 3"
    }
  },
  "cells": [
    {
      "cell_type": "markdown",
      "metadata": {
        "id": "BAXwp6fk7eG4",
        "colab_type": "text"
      },
      "source": [
        "### **1) Fetch one month of data of coronavirus from twitter before it's outbreak and after outbreak and compare peoples emotion.**\n",
        "# -Use NLTK library for tokenization and for stopwords.."
      ]
    },
    {
      "cell_type": "code",
      "metadata": {
        "id": "dXFJ3B087Sga",
        "colab_type": "code",
        "colab": {}
      },
      "source": [
        "import nltk\n",
        "import string\n",
        "from collections import Counter\n",
        "import matplotlib.pyplot as plt"
      ],
      "execution_count": 5,
      "outputs": []
    },
    {
      "cell_type": "code",
      "metadata": {
        "id": "g24bgkCM8Gms",
        "colab_type": "code",
        "colab": {
          "base_uri": "https://localhost:8080/",
          "height": 190
        },
        "outputId": "6a33a187-4fac-4e80-b227-d097557f2ddf"
      },
      "source": [
        "!pip install GetOldTweets3"
      ],
      "execution_count": 7,
      "outputs": [
        {
          "output_type": "stream",
          "text": [
            "Collecting GetOldTweets3\n",
            "  Downloading https://files.pythonhosted.org/packages/ed/f4/a00c2a7c90801abc875325bb5416ce9090ac86d06a00cc887131bd73ba45/GetOldTweets3-0.0.11-py3-none-any.whl\n",
            "Collecting pyquery>=1.2.10\n",
            "  Downloading https://files.pythonhosted.org/packages/78/43/95d42e386c61cb639d1a0b94f0c0b9f0b7d6b981ad3c043a836c8b5bc68b/pyquery-1.4.1-py2.py3-none-any.whl\n",
            "Requirement already satisfied: lxml>=3.5.0 in /usr/local/lib/python3.6/dist-packages (from GetOldTweets3) (4.2.6)\n",
            "Collecting cssselect>0.7.9\n",
            "  Downloading https://files.pythonhosted.org/packages/3b/d4/3b5c17f00cce85b9a1e6f91096e1cc8e8ede2e1be8e96b87ce1ed09e92c5/cssselect-1.1.0-py2.py3-none-any.whl\n",
            "Installing collected packages: cssselect, pyquery, GetOldTweets3\n",
            "Successfully installed GetOldTweets3-0.0.11 cssselect-1.1.0 pyquery-1.4.1\n"
          ],
          "name": "stdout"
        }
      ]
    },
    {
      "cell_type": "code",
      "metadata": {
        "id": "G4Jink3j70lI",
        "colab_type": "code",
        "colab": {}
      },
      "source": [
        "import GetOldTweets3 as got\n",
        "def get_tweets(keyword,start,end,mxm):\n",
        "    tweet_criteria=got.manager.TweetCriteria().setQuerySearch(keyword).setSince(start).setUntil(end)\\\n",
        "    .setMaxTweets(mxm)\n",
        "    tweets=got.manager.TweetManager.getTweets(tweet_criteria)\n",
        "    text=[[tweet.text] for tweet in tweets]\n",
        "    return text"
      ],
      "execution_count": 8,
      "outputs": []
    },
    {
      "cell_type": "code",
      "metadata": {
        "id": "TWVX7A12775X",
        "colab_type": "code",
        "colab": {
          "base_uri": "https://localhost:8080/",
          "height": 1000
        },
        "outputId": "9e8bf986-39a0-4e16-b83c-d95a79d4d4ed"
      },
      "source": [
        "#Considering WHO's outbreak date 30 Jan 2020. Getting 30 days before outbreak\n",
        "before=get_tweets('corona virus', '2020-01-01','2020-02-01',500)\n",
        "before"
      ],
      "execution_count": 9,
      "outputs": [
        {
          "output_type": "execute_result",
          "data": {
            "text/plain": [
              "[['Me veré muy dramático si a partir del lunes uso mascarilla para ir a u? #coronavirus'],\n",
              " ['Unless Corona virus cancels the league #Dreamcatcher'],\n",
              " ['I told a few dumb liberals that the Corona virus was coming from Mexico. Now they want to build the wall.'],\n",
              " ['Many travel companies are limiting their operations to reduce the impact of the coronavirus outbreak on their financials while helping to safeguard public health. '],\n",
              " ['Les endroits publics à forte densité chinoise tel les bibliothèques comme à #Brossard devrait être interdit d’accès s’ils ont été en chine lors des derniers 15 voir 30 jours. #Coronavirus CC : #DoreenAssaad @Ad_Assaad'],\n",
              " ['Nose que es peor si el coronavirus o el Efecto Tusa que afecta a los pendejos de hoy en dia!!! '],\n",
              " ['CORONA-VIRUS, should be taken with a slice of LIME '],\n",
              " ['Corona virus. '],\n",
              " ['Coronavirus, ¿dónde se originó? ¿Tendrá algo que ver con salubridad, higiene, o falta de regulación del gobierno chino? Escucha del tema en reproducción del programa de hoy. https://www.ivoox.com/player_ej_47202218_5_1.html?data=lZyfkpeWdZmhhpywj5ecaZS1lJWah5yncZOhhpywj5KJe6ShjoqkpZKtssfj09LO1sqPd5KfxcqYx9PJttCfxcqYlJWWdI6ZmKiaj4qbh46o'],\n",
              " ['Está escrito:\".....y llegará Vox, y los merengues ganarán una Supercopa inmerecida, y Gloria inundará nuestras cosechas, mientras el Rey (\"corona\"virus) aniquila a su pueblo... \". Apocalipsis 9,11-15. Amén '],\n",
              " ['“The fatality rate [of the coronavirus] is 200/10,000, which is currently lower compared to many other viruses including SARS, so if it was meant as a bioweapon, it is not a good one.\" '],\n",
              " ['Bolsonaro sobre resgate de brasileiros na zona do coronavírus: \"custa caro\" é um cretino ...um aspone de merda....medíocre..pusilânime https://www.conversaafiada.com.br/brasil/bolsonaro-sobre-resgate-de-brasileiros-na-zona-do-coronavirus-custa-caro via @ConversaAfiada'],\n",
              " ['El “lado humano” del #CoronaVirus '],\n",
              " ['#savenatuna #coronavirus #tolakkarantinawniwuhandinatuna @jokowi'],\n",
              " ['De guardia y tosiendo, y mi madre gritando por teléfono si no tendré el coronavirus... Enero se me ha hecho largo, pero el coronavirus, más aún'],\n",
              " ['US bars entry to foreigners who traveled to China http://bit.ly/2Oj0amd #coronavirus'],\n",
              " ['#Emergencias #Coronavirus Y mientras.... \"Il Capo\" '],\n",
              " [\"Why B.C.'s top doctor doesn't want to impose a coronavirus quarantine | CTV News \"],\n",
              " ['Salud Pública niega casos coronavirus en el país '],\n",
              " ['Corona Virus Outbreak Linked To Animal Meat Market That Sold Live Rats, Snakes, And Wolf Cubs '],\n",
              " ['this coronavirus got to me, say your farewells now '],\n",
              " ['dos chinos con coronavirus en bs as, sabes el tiro q les pego si soy el medico'],\n",
              " ['People who come on here to fear monger and be racist re coronavirus couldnt even describe its understand the mechanism of ssRNA viruses and it shows'],\n",
              " ['Número de casos confirmados de coronavírus passa de 11 mil e são mais de 250 mortes na China https://www.agoranoticiasbrasil.com.br/numero-de-casos-confirmados-de-coronavirus-passa-de-11-mil-e-sao-mais-de-250-mortes-na-china/ via @AgoraNoticiasBr'],\n",
              " ['Der Umgang Chinas mit dem Coronavirus ist eine Lehrstunde für kommunikative Machtpolitik '],\n",
              " ['México no está preparado para el coronavirus, advierten. '],\n",
              " ['NEW: Man tests positive for novel #coronavirus in Santa Clara County, the first reported in the Bay Area and the seventh in the nation '],\n",
              " ['!? WHO & CDC Caught Intentionally Fudging the Coronavirus Numbers? https://youtu.be/rfAd745Sii0 via @YouTube'],\n",
              " ['This might be how you people got corona virus. Now, no one is safe again. '],\n",
              " ['mi padre histérico. Y yo descojonándome en su cara, la verdad. ¿No querías que fuera a Londres? Pues toma, coronavirus en tu puñetera casa'],\n",
              " ['chug the whole bottle to immunize yourself from the corona virus. '],\n",
              " [\"'Not unforseeable': Your travel insurance may not cover coronavirus \"],\n",
              " [' Sanidad confirma el primer caso en España de Coronavirus @elmundoes'],\n",
              " ['Donald Trump is 73 years old Coronavirus is out there. Pride goeth before a fall. #RIPAmerica'],\n",
              " ['Ver que otros países tercer mundista tienen un plan para educar la población médica y civil sobre el coronavirus, planear medidas por si llega a suceder la situación y que en tu país solo compren termómetros Que maldita impotencia. #jesustakethewheel'],\n",
              " ['me da muchísima rabia la desinformacion que hay con el coronavirus y que la gente se crea que se acaba el mundo, y la realidad es que si lees esto me debes un beso si sigues leyendo me debes dos y si has llegado hasta aquí pues ya somos pareja'],\n",
              " ['OKAY MY LAST MEAL BEFORE I GO TO ASIA AND GET THE CORONA VIRUS CHOOSE WISELY'],\n",
              " ['Coronavirus Explained: Everything You Wanted To Know But Were Afraid To Lift Your Mask To Ask | Zero Hedge '],\n",
              " ['cómo no te va a gustar el helado del limon? tenés Coronavirus?'],\n",
              " ['Antes tinham falado que havia 9 casos de coronavírus em Belo Horizonte, depois disseram que os 09 casos eram ao todo no Brasil e não só em BH.. agora já disseram que tem um único caso em Belo Horizonte e foi descartado, mas os testes continuam. '],\n",
              " ['California just getting all these coronavirus! You get a virus, you get a virus! You get a virus! '],\n",
              " [\"Here's a PSA since the Coronavirus is spreading https://youtu.be/OvuH7o_WZdc via @YouTube\"],\n",
              " ['WHO Coronavirus Global Health Emergency: 4 Questions Answered https://heavy.com/news/2020/01/coronavirus-global-health-emergency-who-questions/ via @heavysan'],\n",
              " ['Sanidad confirma en La Gomera el primer caso de coronavirus en España http://a.msn.com/01/es-es/BBZwMqW?ocid=st'],\n",
              " ['q miedo en españa ya hay alguien infectado del coronavirus'],\n",
              " [\"The animals I eat don't have Coronavirus tho \"],\n",
              " ['Mira la transmisión de @RayoVen: #PUENTE #SUPERBOWL #CANDELARIA #Brexit #Coronavirus #Tamales #NFL #FinDeSemana'],\n",
              " ['Seventh American diagnosed with coronavirus https://mol.im/a/7953313 via @MailOnline'],\n",
              " ['The real Coronavirus is the alcoholic neglect from fathers.'],\n",
              " ['Me sentindo estranha, já pensei: tô com corona vírus'],\n",
              " ['【ホワイトハウス】アメリカ合衆国、新型コロナウィルス問題を公衆衛生緊急事態宣言 【２月１日】 アザー保健福祉長官「アメリカ国民の生命・財産を守る為、トランプ政権は２０１９新型コロナウィルス感染対策に関して、私は公衆衛生緊急宣言に署名」 #Coronavirus 公式：https://www.youtube.com/watch?v=gypd4HnltbU&amp;t=13s'],\n",
              " ['Prediction: @pmc_gov_au will close boarders with China straight after evacuated Australians land #coronavirus'],\n",
              " ['\"con esto del coronavirus me da miedo tocar esa puerta\", me dice una señora antes de entrar a local de comida.'],\n",
              " ['China bans citizens from booking overseas tours amid Wuhan coronavirus. The move comes as the government works to limit the spread of the Wuhan coronavirus that has so far killed 42 both within its borders and abroad. #coronavirus '],\n",
              " ['#coronavirus #WuhanVirus #nCoV2020 Coronavirus Spreads, and the World Pays for China’s Dictatorship '],\n",
              " ['Dice el coronavirus que no es boludo, que prefiere paises desarrollados.'],\n",
              " ['US government adopts measures to protect its citizens from the novel Corona virus '],\n",
              " ['Governo confirma caso suspeito de coronavírus em morador de Santo André internado na capital https://www.bastidorpolitico.com.br/abc/santo-andre/governo-confirma-caso-suspeito-de-coronavirus-em-santo-andre/ via @Bastidor Político'],\n",
              " ['Ya mucho estoy tosiendo, en el trabajo van a pensar que tengo coronavirus JAJAJA'],\n",
              " ['The UK leaving the European Union right in the middle of the #coronavirus is bad ass. '],\n",
              " ['Sanidad confirma en La Gomera el primer caso de coronavirus en España | Sociedad | EL… https://wayback.archive.org/web/20200131225909/https://elpais.com/sociedad/2020/01/31/actualidad/1580509404_469734.html ➜ https://wayback.archive.org/web/20200131235934/https://elpais.com/sociedad/2020/01/31/actualidad/1580509404_469734.html'],\n",
              " ['Coronavirus: Canada reports fourth case, a patient who tested negative at first'],\n",
              " ['Went to King Fu buffet, defo got coronavirus now'],\n",
              " ['Coronavirus paciente 0'],\n",
              " ['Y la Guanda? Saquenla de recoger chavos. Que se ponga a trabajar. Ah verdad no sabe ingles. #EstoSeJodio #CoronaVirus '],\n",
              " ['China confirma 258 muertos y más de 11,100 infectados por el coronavirus '],\n",
              " [\"Coronavirus: pandemia di scemenze - World Affairs - L'Antidiplomatico \"],\n",
              " [\"All those people were already racist, they just needed an excuse to show it more freely. China isn't the only country with cases of the corona virus.\"],\n",
              " ['God is punishing us with the coronavirus Dave......if only we had access to European medicines......Despite Femi not knowing we export far more medicines than we import.'],\n",
              " ['#Coronavirus '],\n",
              " ['Q se vaya ala china este Bruto de evo yo creo q no el coronavirus lo quiere a este Xq es más peligroso q el'],\n",
              " ['@zerohedge hesabı askıya alınmış. Sebebinin, #coronavirus salgını hakkında doğru olmayan bilgiler paylaşması olduğu iddia ediliyor... '],\n",
              " ['Ahora resulta que se investiga si el coronavirus salió de un laboratorio chino... Vivimos en una sociedad...'],\n",
              " ['30 THINGS YOU NEED TO SURVIVE THE WUHAN CORONAVIRUS NCOV 2019 https://youtu.be/A5G8uNZWe-A via @YouTube'],\n",
              " ['Coronavirus Contains \"HIV Insertions\", Stoking Fears Over Artificially Created Bioweapon | Zero Hedge https://www.zerohedge.com/geopolitical/coronavirus-contains-hiv-insertions-stoking-fears-over-artificially-created-bioweapon Zerohedge got suspended for this article. So I’m posting it.'],\n",
              " ['Watch Out for Coronavirus Phishing Scams '],\n",
              " ['Algunas de estas regiones son incluso idénticas a las secuencias de coronavirus de murciélagos. Este hilo (en inglés, https://twitter.com/guacamolebio/status/1223383400297324544?s=20) orienta sobre cómo verificar la identidad de cualquier secuencia genética. Si tienes interés en hacerlo, puedo luego orientar en español.'],\n",
              " ['Hay un paper/información muy engañosa circulando en Internet que argumenta que algunas partes (genéticas) del #coronavirus #2019nCoV provienen del #VIH. Dicho documento no discute las similitudes a nivel genético con secuencias de otros organismos'],\n",
              " ['De teller staat bijna op 10.000 besmettingen met het coronavirus. Dus we moeten vanaf nu spreken over een ernstige noodsituatie, volgens het WHO. #op1'],\n",
              " ['Temas políticos, de seguridad, algún escándalo grande, de salud pública como lo del coronavirus... aunque creo que al final casi todo se politiza, no? Se ha usado el tema para criticar al gobierno chino, otros dicen que solo se está propagando pánico y que no es tan grave...'],\n",
              " ['This is it, this is the cure for the coronavirus '],\n",
              " ['Coronavirus is being leveraged by BlackHats to spread the Emotet trojan in a recent botnet driven malware campaign. Making use of a VBA script and Office365 macros to infect systems, the same method used by Emotet in previous campaigns. #coronoravirus'],\n",
              " ['Tá trazendo corona vírus não né?!'],\n",
              " ['eu lendo sobre o coronavírus '],\n",
              " [\"My @Reuters report on the US State Dept working with US &amp; Chinese agencies to organize additional flights for American citizens to return to the US from Wuhan, the coronavirus outbreak's epicenter (https://reut.rs/2RLyYyv). #coronarvirus #Chevron #OOTT #Hubei #WHO #China #Wuhan\"],\n",
              " ['minha mãe tá fazendo um caos por causa do coronavírus mano ah vai tomar no cu'],\n",
              " ['Suspeita de coronavírus isola 6 mil passageiros em navio de cruzeiro italiano https://www.politicaparaibana.com/suspeita-de-coronavirus-isola-6-mil-passageiros-em-navio-de-cruzeiro-italiano/ via @PParaibana'],\n",
              " ['Zimbabwe Screening Travelers in Wake of Coronavirus Outbreak '],\n",
              " ['Trump promises 500 million masks to keep the US safe from the coronavirus. '],\n",
              " ['Reino Unido confirma los primeros dos casos de coronavirus: El Gobierno aseguró que dos personas pertenecientes a… http://dlvr.it/RP8XbP'],\n",
              " ['@EcarriB Y que no llegue el #Coronavirus Antonio a #Venezuela y #Cuba ... pues la Purga puede ser peor que la de #Mao'],\n",
              " ['U.S. declares coronavirus a public health emergency http://dlvr.it/RP8XZQ'],\n",
              " [\"Il preservativo è l'arma migliore contro il #Coronavirus. Messo la mattina lo si tiene fino a sera. Di notte se ne può fare a meno.\"],\n",
              " [\"I haven't heard a single thing about Trump since this Coronavirus news took off. How's he doing?\"],\n",
              " ['Síntomas de padecer coronavirus '],\n",
              " ['Ban all flights from China and to China, sad. Londoner is fourth in Canada to contract coronavirus: Health officials '],\n",
              " ['Yes boi but Coronavirus chilling in the air so that go wait lol'],\n",
              " ['torcendo pro cara que tá jogando Plague com o coronavírus na vida real esteja perdendo'],\n",
              " ['Un algoritmo de IA descubrió una semana antes el coronavirus '],\n",
              " ['In arabic it means a prayer to protect from the coronavirus'],\n",
              " ['My lysol can calls is SARS corona virus'],\n",
              " ['HIV Coronavirus link .. Chem warfare confirmed'],\n",
              " ['Coronavirus na China Piolhos na Madeira'],\n",
              " ['Ya me gustaría que el coronavirus me bloqueara ;) Con la vergüenza que me va a dar ir con mascarilla en el metro, joer'],\n",
              " ['I was *specifically* wondering if the coronavirus HIV claim was going to hold up to external review, and it’s looking like no, absolutely not, here’s how to check. '],\n",
              " ['Esqueci do coronavírus e comprei umas coisas da China... e vamos de morte'],\n",
              " ['Person tested for coronavirus in Queens had the flu '],\n",
              " ['Post about Coronavirus / HIV'],\n",
              " ['Choluleo...ne gustaría ver el rostro de Cabot a los 80 años luego de varias horas de entrevistas periodistas con actos protocolares...cuidarse del coronavirus y los crímenes en manada que eso sí es grave. '],\n",
              " ['Coronavirus, última hora: Sanidad confirma el primer caso en España: un alemán en La … https://wayback.archive.org/web/20200131230003/https://www.elmundo.es/salud/2020/01/31/5e3463effdddfffa7a8b45ac.html ➜ https://wayback.archive.org/web/20200131235919/https://www.elmundo.es/salud/2020/01/31/5e3463effdddfffa7a8b45ac.html'],\n",
              " [' Max Alert! Report #China spliced #HIV genes into #Wuhan #CoronaVirus IF true, military response may be expected &amp; Civilian supplies will be depleted #GPS \"Uncanny similarity of unique inserts in the 2019-nCoV spike protein to HIV-1 gp120 and Gag'],\n",
              " ['Well, great start to 2020.. •Australia is still burning •Trump almost starts WW3 •Kobe Bryant dies •The coronavirus starts vibing •Brexit.. '],\n",
              " ['No compartas #FakeNews Estas son las recomendaciones de la #OMS ante el brote de #Coronavirus. '],\n",
              " ['Connecticut does not have a confirmed case of coronavirus, but the state’s hardware stores and national chains are quickly selling out of face masks '],\n",
              " ['Brasil tá fodido! Não tem plano de Quarentena Especial para possível surto do coronavírus. E O CARNAVAL, CHEGANDO! Alerta, Brasil! Suspenda-se o CORONAVAL!'],\n",
              " ['if you treat any Asian person as if they have Coronavirus, the real concern is you have IMMENSE lead in your water'],\n",
              " [\"alright cool cool cause everyone around me is thinking they have it and I'm lowkey annoyed cause there isn't any cases in Texas yet I think and they keep saying they have coronavirus \"],\n",
              " ['The US appears to be taking this Coronavirus pretty seriously! '],\n",
              " ['inuubo lang at sinisipon, corona virus na kaagad? di ba pwedeng naarawan, naulanan, nasaktan kasi hindi iningatan.'],\n",
              " ['These black bloc #antifa putzes are arguments against consolidating populations in urban areas with only mass transit realistically available. Well, them and #coronavirus. '],\n",
              " ['Lo del Corona Virus fue para que nos acordemos de Jorge, se sabe.'],\n",
              " ['hoy en la catedral pasó una MANADA DE CHINOS AL LADO MIO Y NO TENIAN BARBIJO, coronavirus eres tú?creo que ya veo la luz'],\n",
              " ['#China : elevó a 258 los muertos por coronavirus y anunció que ya hay más de 11.000 casos confirmados. #N4V'],\n",
              " ['hope you all catch Coronavirus you paigons'],\n",
              " ['Pone SARS coronavirus es decir coronavirus de el sindrome respiratorio agudo y grave,no es el mismo coronavirus que el coronavirus de wuhan'],\n",
              " ['The Chinese Coronavirus Is Not the Zombie Apocalypse | Psychology Today https://www.psychologytoday.com/blog/its-catching/202001/the-chinese-coronavirus-is-not-the-zombie-apocalypse'],\n",
              " ['Without Government Who Would Save Us From Coronavirus? — Steemit '],\n",
              " ['Airlines stop flights to China due to coronavirus, Chinese furious https://mol.im/a/7952787 via @MailOnline'],\n",
              " ['U.S. Declares Public Health Emergency Over Coronavirus https://www.weather.com/health/cold-flu/news/2020-01-31-us-public-health-emergency-coronavirus'],\n",
              " ['The racism spread faster than #coronavirus'],\n",
              " ['#AsíeslaNoticia: Por #coronavirus cierran la #CiudadProhibida de #China http://bit.ly/2GEvNCx'],\n",
              " ['I feel like I’m getting sick and my paranoia is getting the best of me. Corona virus? Is that you witch?'],\n",
              " ['Okay now the one saying the most racist things about coronavirus got called out for using a slur and is now confessing he has high functioning autism'],\n",
              " ['Coronavirus : Bagaimana #Islam Tangani? Virus yang dikenali sebagai #coronavirus (2019-nC0V) yang dkatakan bermula di Wuhan, China pada akhir Disember lepas sehingga kini dilaporkan telah menjangkiti hampir 2,800 orang &amp; meragut 80 nyawa... https://muslimahhtm.blogspot.com/2020/01/coronavirus-bagaimana-islam-tangani.html #WuhanVirus'],\n",
              " ['You shouldn’t go. Corona virus'],\n",
              " [\"#BSjournalism Editor or Chief of Staff who commissioned or approved this alleged piece of #journalism is a first class nuffy. Did we really need an explainer on non links? We'd all be long dead if we were Corona fans. #stupid Picked up by multiple media worldwide. #coronavirus https://twitter.com/Adriansen/status/1222898422379732993\"],\n",
              " ['Cronología del coronavirus originado en China, la enfermedad que tiene en vilo a todo el mundo '],\n",
              " ['Your own mother warned us. She knew. #RIPGOP #ImpeachmentTrialSham #resist #Cippolone #coward #CoverUpGOP #ImpeachedForever45 #ImpeachedAndNotExonerated #NotExonerated #GUILTY #mushroomhead #chickenshit #coronavirus '],\n",
              " ['\"o novo corona vírus\" carai tá velho o negócio já, para de falar assim, que irritante'],\n",
              " ['Pelosi has never come down with Coronavirus... and she is always drunker than a sailor on shore leave. Ergo... alcohol keeps you from getting the flu (or giving a crap if you do get it). So go get hammered. Your welcome. '],\n",
              " [' sarà il coronavirus?'],\n",
              " [\"For tweeting that Corona virus / HIV link is what I've heard.\"],\n",
              " ['Modo murciélago y es una epidemia más generalizada que el coronavirus parece jajjaja'],\n",
              " ['Coronavirus tú me oyes? '],\n",
              " [\"wake up and realize that maybe these people are being forced to be kind due to their circumstances and how most of them would probably have stayed oppressive to us if this coronavirus thing never happened. help people, but never forget what they've done in the past.\"],\n",
              " ['#coronavirus #prepper #catholicprepper #catholictwitter Emergency declared here in the states.'],\n",
              " ['#CoronaVirus'],\n",
              " [\"[RTRS] 31 Jan - CHINA'S TIANJIN CITY SAYS ALL SCHOOLS, NON-ESSENTIAL COMPANIES WILL REMAIN CLOSED UNTIL FURTHER NOTICE TO CURB CORONAVIRUS - STATE MEDIA that means closed until March\"],\n",
              " ['#Coronavirus China travel advisory: Info on flights, cruises, more '],\n",
              " ['Fella in what world do you live in? Chinese league is cancelled because CoronaVirus...'],\n",
              " ['NO TENÍAMOS SUFICIENTE CON EL APETITO SEXUAL MARXISTA QUE TIENE MI HIJA RECIÉN ADOCTRINADA, QUE AHORA LOS COMUNISTAS LE VAN A PEGAR EL CORONAVIRUS... ¿ES ESTA LA ESPAÑA QUE EL PSOE QUIERE?????'],\n",
              " ['El primer país que no tiene resultado del paciente sospechoso de coronavirus en más de una semana ......???'],\n",
              " ['La Gomera registra el primer caso de coronavirus en España https://www.abc.es/sociedad/abci-primer-caso-coronavirus-espana-202001312325_noticia.html#vca=amp-rrss-inducido&amp;vmc=abc-es&amp;vso=tw&amp;vli=noticia.foto vía @ABC_Conocer'],\n",
              " ['No entro más a un mall chino....... Tengo miedo de salir con CORONAVIRUS '],\n",
              " ['#ScottyFromMarketting #coronavirus if it is safe the PM who is partial to taking vacations during national crisis when the whole of cannot needs to go there too. Hawaii was his choice while so off u go so knows your gov has thought this through'],\n",
              " ['Watch this video of this man how he died because he was infected with coronavirus Photo ➤ http://is.gd/BdxiDh Video HD ➤ http://is.gd/BdxiDh The moment of the death of the first case of coronavirus Video ➤ http://is.gd/BdxiDh #coronavirus #RIPGOP'],\n",
              " ['To esperando minha viagem de 15 anos desde os meus seis anos de idade, aí quando finalmente falta um ano aparece o coronavírus pra acabar com tudo. Se eu não for vai ser porque eu tenho medo de morrer.'],\n",
              " ['Ask the question is why is it called the Coronavirus like the flu different types of flu just like the virus you have different types of viruses human Coronavirus is that the same type of Coronavirus that we dealing with now Corona the shape of the virus and how the virus looks'],\n",
              " ['Leí un tweet de un fan de Jousy Chan, le dice a la modelo: “Con chinas como tú, que me contagien el coronavirus.'],\n",
              " ['Deus ajude eu e meu bonde nesse carna com a imunidade e longe desse coronavirus'],\n",
              " ['Meu presidente eu ouvi a sua preocupação com relação as nossas fronteiras terrestres para tentar minimizar a entrada desse #coronavirus mas todos nós sabemos que esse vírus vai entrar em circulação no nosso território nacional ! Evite uma tragédia presidente #CancelaCarnaval'],\n",
              " ['Halata bang hindi magwo work ang coronavirus issue kaya balik human rights? #OUSTDilawans'],\n",
              " ['Wait! Is that a person with the CORONAVIRUS I am seeing among them?'],\n",
              " ['Coronavirus: ¿Dónde están los pasajeros que iban en el avión alemán? Caso la Gomera, España. '],\n",
              " ['No sólo por el coronavirus, estamos a la deriva en todo sentido económico, político, social, etc etc etc'],\n",
              " ['my brothers teacher talking abt how they shouldnt have stigma against asians bc of coronavirus and my brother tells me all the asians in his class are coming up to ppl coughing on them on purpose LMAOOOOO thats messed up.. this is grade 8'],\n",
              " ['A pessoa quer dar dica sobre o coronavirus e está falando de bactéria '],\n",
              " ['Debemos informarnos acerca de las medidas preventivas, debemos ALERTAR, pero no ALARMAR. No crean en todo lo que leen en las redes sociales, y antes de difundir una información, se debe confirmar. #Coronavirus #nCov'],\n",
              " ['Los de Wapa están cabrones.. tiembla y dan la película 2012, hay coronavirus y dan una película de contagio.'],\n",
              " ['Tokio desmiente los rumores: no cancelará Juegos Olímpicos por brote de coronavirus https://www.noroeste.com.mx/publicaciones/view/tokio-desmiente-los-rumores-no-cancelara-juegos-olimpicos-por-brote-de-coronavirus-1186227 vía @noroestemx'],\n",
              " [\"I don't think it's a coincidence that the coronavirus hits the UK the same day we leave the EU. It's our karma for being absolute bellends.\"],\n",
              " ['Could someone with corona virus please just go visit some republican senators for a bit? Please? #RepublicansKilledDemocracy #coronavirus'],\n",
              " ['Netflix and chill will be trending after all of these coronavirus headlines.'],\n",
              " ['Cagaaamo, llegó el coronavirus '],\n",
              " ['When is the @realDonaldTrump just going to get @jaredkushner on this? Stop wasting time Trump!#coronoavirusgoaway #coronavirus #jaredjaredhesourmanifhecantdoitnoonecan'],\n",
              " ['Leland Whaley says he is going to discuss some theories of where the novel coronavirus could have come from: '],\n",
              " ['Any foreign national who has traveled within China in the last two weeks will not be allowed into the U.S., according to a proclamation from Trump. The action is aimed at preventing the spread of the coronavirus in the U.S. '],\n",
              " ['Kkkkk sonhava em pegar corona vírus e peguei dengue. Ok, meu título de zikador ainda vive mesmo.'],\n",
              " ['Manejo la teoría de que esos \"animalitos\" tienen que ver con el coronavirus , solo por eso '],\n",
              " [\"Coronavirus? Nah ici on est tequila Heineken poh l'temps de niaiser on est good\"],\n",
              " ['O Brasil tá tão ruim que nem o coronavírus quer vir pra cá.'],\n",
              " ['I was going to throw it away, because I had it for awhile, but I might needed later. #n95mask #coronavirus #china #wuhan'],\n",
              " ['Cuidado con el Corona virus muchachos. El fin de semana está supuesto a pegar fuerte por todos lados. Tomar precauciones. Dicen los científicos que la sopa de pata es el mejor remedio. '],\n",
              " ['Carnival, Royal Caribbean cruises implement restrictions over China coronavirus '],\n",
              " [\"But, but there's a Coronavirus out there. \"],\n",
              " ['coronavirus'],\n",
              " ['Carnival, Royal Caribbean cruises implement restrictions over China coronavirus https://www.11alive.com/article/news/nation-world/carnival-royal-caribbean-restrictions-china-coronavirus/507-7b77496b-1651-4f06-ac95-57c10a3f53e3'],\n",
              " ['Carnival, Royal Caribbean cruises implement restrictions over China coronavirus https://www.9news.com/article/news/nation-world/carnival-royal-caribbean-restrictions-china-coronavirus/507-7b77496b-1651-4f06-ac95-57c10a3f53e3'],\n",
              " ['Países confirmados com casos de CORONAVÍRUS no mundo 01/01/2020 a 31/01/... https://youtu.be/ZCEzXVkm2mc via @YouTube'],\n",
              " ['Carnival, Royal Caribbean cruises implement restrictions over China coronavirus https://www.krem.com/article/news/nation-world/carnival-royal-caribbean-restrictions-china-coronavirus/507-7b77496b-1651-4f06-ac95-57c10a3f53e3'],\n",
              " ['Ports, Cruise Lines Tighten Coronavirus Prevention Controls http://dlvr.it/RP8XVk'],\n",
              " ['Al final RSTV siempre tiene razon. Analizando el coronavirus se dan los mismos patrones con el sida que tambien es un virus generado en laboratorio para reducir la población.'],\n",
              " ['Se descubre que al final el coronavirus no era nada más y nada menos que los amigos que haces en el camino'],\n",
              " ['Whoever has corona virus PLEASE go spit on donald trump PLEASE'],\n",
              " ['Coronavirus conspiracy theories spread panic and dangerous misinformation http://dlvr.it/RP8XVM'],\n",
              " ['They tweeted something about HIV possibly being artificially inserted into the Coronavirus indicating it might have been man made, that might have been the line that got crossed'],\n",
              " ['V osmdesátých letech to byl AIDS a po čtyřiceti letech je to CORONA virus...person to person contraction so? (virus contra virus,right?! Z přízně strýc MUDr. Miloš Fidler tvrdil,že virusy nabývají síly pod NULOU... '],\n",
              " ['@PatriotsSoapbox Coronavirus Contains \"HIV Insertions\", Stoking Fears Over Artificially Created Bioweapon | Zero Hedge https://www.zerohedge.com/geopolitical/coronavirus-contains-hiv-insertions-stoking-fears-over-artificially-created-bioweapon'],\n",
              " ['*coronavirus entrando en el chat*'],\n",
              " ['@trish_regan RACISM VS CHINESE IN U.S. AND EUROPE. There is an “anti-Chinese sentiment and even racism.” For instance, there have been reports of children of Chinese descent being ‘BULLIED BY SCHOOLMATES”in the United States and Europe over CORONAVIRUS. #TRISHREGAN #DONLINOCELLE'],\n",
              " ['La gente no vale tres tiras; consternados porque el coronavirus supuestamente se originó por una sopa de murciélago, a pero se maman el cerdo como si fuese lo más limpio del mundo (virus H1N1), no valen es verga.'],\n",
              " ['#umorismo #satira #ironia #sorridere #comicità #nonsense #ilarità #leggerezza #humor #comico #freddura #barzelletta #rassegnastramba #rassegnastampa #miclape #moda #tendenze #influencer #influenza #coronavirus #Carnevale #mascherine #Cina'],\n",
              " ['Solo hemos pasado enero y ha habido un coronavirus que nos tiene paranoicos, un amago de tercera guerra mundial, incendios...'],\n",
              " ['Our face mask future: Do they really help beat flu, coronavirus and pollution? '],\n",
              " ['I was in bed getting over the Corona virus'],\n",
              " ['If he bashes another fox up he could contract coronavirus......!'],\n",
              " ['Fighting The Coronavirus With Diversity And Tolerance | The Matt Walsh S... https://youtu.be/ouc0I5qX0CM vía @YouTube'],\n",
              " [\"What's happening with the coronavirus \"],\n",
              " ['No les miento.... Ese Coronavirus me tiene asustada '],\n",
              " ['Public health emergency declared over coronavirus outbreak - https://www.oann.com/public-health-emergency-declared-over-coronavirus-outbreak/'],\n",
              " ['No Iraqis infected with Coronavirus: ministerial committee | http://Rudaw.net https://www.rudaw.net/english/world/310120201'],\n",
              " ['When coronavirus is nearby'],\n",
              " ['Airlines stop flights to China due to coronavirus, Chinese furious https://mol.im/a/7952787 via @MailOnline'],\n",
              " ['corona VIRUS,....otro GRAN LOGRO d los LABORATORIOS d GUERRA BIOLOGICA del NORTE'],\n",
              " ['As Coronavirus Spreads So Does Anti-Chinese Racism - '],\n",
              " ['Un virus mortal se propaga en EE.UU. y ya ha infectado a 15 millones de personas: no es el coronavirus, es la influenza '],\n",
              " ['\"US will deny entry to foreigners travelling from mainland China to prevent the new coronavirus from spreading\" \"US..will require US citizens, permanent residents and immediate family members arriving...from China’s Hubei province..to be quarantined for 14 days\"'],\n",
              " ['Coronavirus Joke That Goes Too Far... https://youtu.be/S7Ct4FG8sNA via @YouTube'],\n",
              " [\"Might have corona virus. Can't be worse than the Glazer virus.\"],\n",
              " ['Wow, not sure why, but probably because of their posts on the Coronavirus recently?'],\n",
              " ['Santa Clara County man tests positive for new coronavirus - http://SFChronicle.com'],\n",
              " ['Coronavirus: Trump Bans U.S. Entry by Foreign Nationals Who Have Recently Been in China http://bit.ly/2S8to8d via @BreitbartNews'],\n",
              " ['Last year, you thought this was hyperbol. Last week, Google told you this was hyperbol. Tonight, the shortages are hitting the news. The #coronavirus in China has exposed the weak links in our \"just in time\" commodity delivery system. '],\n",
              " ['The Coronavirus Is Infecting the Global Economy. Here’s How. — Bloomberg '],\n",
              " ['Eu não estou conseguindo me preocupar com o corona vírus. Não dá. O foda de todo dia ter notícia de desastre e morte é que a gente fica insensível. Esse é o efeito Rio de Janeiro - Brasil.'],\n",
              " ['Vale, lo del coronavirus es más peligroso, ya está prácticamente en unas de mis islas...'],\n",
              " ['Que venga el coronavirus ese'],\n",
              " ['Damn fam drink a modelo, it could be the corona virus'],\n",
              " ['Coronavirus Contains \"HIV Insertions\", Stoking Fears Over Artificially Created Bioweapon | Zero Hedge '],\n",
              " ['Quiero tener un búnker para no contagiarme del coronavirus '],\n",
              " ['CG_ADM O governo de #Israel disse que proibiu o acesso tanto por terra, quanto por via marítima a estrangeiros que estiveram recentemente na #China #coronavirus #CoronavirusOutbreak'],\n",
              " ['would love to see the analytics on @netflix \"Pandemic\" series before and after the #coronavirus outbreak...'],\n",
              " ['deadass think my coach has the coronavirus'],\n",
              " ['*coughs in lyft* driver: so are you worried about the coronavirus'],\n",
              " ['o medo que eu to desse corona vírus pqp '],\n",
              " ['Another dark day for free speech. I assume the Chinese got angry about the legit reporting on Coronavirus.'],\n",
              " [\"le coronavirus a deja fait 250 morts, vient on se pecho bb qu'est-ce que t'attends\"],\n",
              " ['El coronavirus será el culpable de que haya menos Nintendos por el momento. '],\n",
              " ['Si llegase a Venezuela algún contagiado con el Coronavirus lo irán a dejar en una de las celdas del SEBIN ya que en los hospitales no hay donde poner en cuarentena a nadie ja ja ja'],\n",
              " ['Dia 31 de 20/20 correria infernal à tarde mas sem a corrida diária na semana. Caixa de som nova chegou sll se veio coronavírus junto mas veio com carregador. Não sextou mas queria. Entre melancia e cerveja acho que partiu álcool'],\n",
              " ['People trending #RIPAmerica because Trump. Meanwhile this Coronavirus is about to rock our shit #ripworld'],\n",
              " ['Crise #Coronavirus : la communication gouvernementale en fait-elle trop ou pas assez ? http://www.leblogducommunicant2-0.com/2020/01/31/crise-coronavirus-la-communication-gouvernementale-en-fait-elle-trop-ou-pas-assez/'],\n",
              " ['#CoronaVirus #Assustador #EmPauta @GloboNews'],\n",
              " [' — CORONAVIRUS, NO COÑO VIRUS https://curiouscat.me/ItsRain/post/1051908806?t=1580515123'],\n",
              " ['Primer caso de coronavirus de Wuhan en España https://cadenaser.com/ser/2020/01/31/sociedad/1580509543_966433.html?ssm=tw vía @La_SER'],\n",
              " ['Coronavirus has sparked racist attacks on Asians in Australia — including me https://www.abc.net.au/news/2020-02-01/coronavirus-has-sparked-racist-attacks-on-asian-australians/11918962?pfmredir=sm via @abcnews crazy when some people fear something that their sick primal racist self kicks in! Abuse to Japanese tourists in Italy I’ve seen as well, we are better than that?'],\n",
              " ['U.S. Declares Public Health Emergency Over Coronavirus https://www.weather.com/health/cold-flu/news/2020-01-31-us-public-health-emergency-coronavirus'],\n",
              " ['Beware of misinformation about #2019nCoV #coronavirus on social media! The best defence against #misinformation is #factchecking and knowing your credible sources. #OutsmartEpidemics starting here: http://Canada.ca/coronavirus Call 1-833-784-4397 @GovCanHealth @WHO'],\n",
              " ['Tenemos 2 buenas. Estamos en verano y el virus necesita frío y no tenemos vuelos directos a China por lo cual alguien los revisa en el camino, porque hasta para eso somos inutiles. Coronavirus: Estados Unidos prohibió el ingreso al pais '],\n",
              " ['qual a probabilidade das coisinhas que compramos pelo wish da China vir infectado com o coronavirus?! Google pesquisar'],\n",
              " [' Propaganda headline of the decade! Fires &amp;amp; Coronavirus do not cause recessions, let’s be honest: we are heading for recession due to an incompetent &amp; reckless government led by #ScottyFromMarketting #auspol'],\n",
              " ['Estoy más enferma que los chinos y si coronavirus '],\n",
              " ['mañana voy al aeropuerto pray for me pa que me pille un coronavirus desos'],\n",
              " ['Things are less scary the more you know about them, like the flu has killed far more people then that Corona Virus. '],\n",
              " [\"Fatality rate Flu: 0.1% Coronavirus: 3% or higher R0: Flu: 1.28 Coronavirus: 2.5 - 3.5 Serious complication rate (intensive care): Flu: &lt;1% Coronavirus: ~20% No vaccine for nCov also. There isn't worldwide quarantines, border closures and lockdowns of 50m+ for nothing\"],\n",
              " ['» Trump le mete el ojo al Coronavirus http://epmundo.com/2020/trump-le-mete-el-ojo-al-coronavirus/'],\n",
              " ['@suzanaog saí daq corona vírus'],\n",
              " [\"'There's no doubt': Top US infectious disease doctor says Wuhan coronavirus can spread even when people have no symptoms - CNN \"],\n",
              " ['Coronavirus al dia '],\n",
              " ['Coronavirus: ya son 258 los muertos en China y varios países aumentan las restricciones de viaje https://www.ambito.com/c5080257 vía @Ambitocom'],\n",
              " ['Peso y bolsa retroceden ante preocupaciones sobre coronavirus // #PeroDiceAquél; #QueNoEsMotivoDeAlarma!! Seguramente, #ElTieneOtrosDatos. No hay que olvidar que: #EnMxTodoMundoViveFelizFe3lizFeliz. #UnMicroscpicoVirusNosVaAHacerLoQue3ElVientoAJuárez.'],\n",
              " ['Am I reading that right? Is the second \"insert\" an exact match to the bat coronavirus which is its closest known relative?'],\n",
              " ['Revisando las ultimas informaciones oficiales del Coronavirus - hay casi 10.000 casos confirmados a nivel global - 6 casos confirmados en EEUU - 2 casos confirmados en Italia, UK, Rusia y uno en Suecia - Latinoamerica sin casos confirmados (Gracias a Dios)'],\n",
              " ['As reportagens sobre o Coronavírus parecem traduzir perfeitamente as aulas de Michel Foucault sobre a governamentalidade e a biopolítica que governa as populações!'],\n",
              " ['Serious question. What should we do if the corona virus hits hard here? Where it’s an emergency to act quick.'],\n",
              " ['Brexit with a taste of #coronavirus'],\n",
              " ['Lots of reasons to be prepared out there! http://www.prepperwebsite.com http://www.theprepperwebsite.com #FTP3 #coronavirus #volcanoes #earthquakes #wildires #foodshortage #locusts #floods #zombies'],\n",
              " ['Now I no what ole is at. Bring ighalo in from china, spread the corona virus and liverpool cant win the leauge..fucking genius #GGMU #MUFC #Igahlo'],\n",
              " ['W.H.O. Demands ‘Gratitude And Respect’ For Chinese Dictator’s Coronavirus Response '],\n",
              " [\"United's plan behind signing Ighalo: Sign Ighalo from China Coronavirus enters UK England suspends football Liverpool don't WIN the league.. #DeadlineDay \"],\n",
              " ['Maybe they’ll all catch Coronavirus?! '],\n",
              " ['can we just talk about how the coronavirus isn’t a huge deal or'],\n",
              " ['El Coronavirus no conoce el tercer mundo. Digna de ser una Chanel. '],\n",
              " ['Solo es le faltaba a enero: 3ra Guerra mundial Tusa Coronavirus Elecciones Ya wey Y cerramos con #Temblor'],\n",
              " ['Sobre o Corona Vírus. Agora coitado do Bill Gattes que em entrevista apenas falou o que qualquer historiador e pesquisador sabe o que realmente acontece na sociedade de tempos em tempos. Quer dizer então que ninguém sabia da super população da China... Que lá eles comem tudo.'],\n",
              " ['Hella coronavirus in Niger.'],\n",
              " ['Preocupado de si pilla el coronavirus cuando se folla a todo el mundo sin condon'],\n",
              " ['Que os apostais que dentro de un mes, cuando todos esten aterrorizados, sale la vacuna del coronavirus por un pastizal, y se acaba todo?'],\n",
              " ['Bill Gates has the patent on the coronavirus as of 2018? I guess his prediction of 65 million dead might be correct? '],\n",
              " ['Mundo:... Corona virus: A Eu: '],\n",
              " ['Y’all worried about coronavirus and Asians? I went to Coney Island and someone shit on the bathroom floor. Worry about that first.'],\n",
              " ['While coronavirus leads to panic, @OhioHealth doctors say the flu is much worse'],\n",
              " ['Patutsada ng DDS, hindi raw takot ang mga Hapon sa coronavirus. Manahimik kayo diyan. January 22 pa, may nagbawal na sa mga Intsik na pumasok sa shop o restaurant sa Japan. Mang-uuto pa kayo. Bobo at gago lang kasi ang poon niyo. Pambarangay ang leadership at political worldview. '],\n",
              " ['Coronavirus live updates: China death toll rises to 258'],\n",
              " ['There are many strains of coronavirus (have been for years), just like there are many strains of the flu (it changes every year which is why a new vaccine is created each year). The strain causing trouble mutated from animals to humans.'],\n",
              " ['#Internacional Autoridades de China confirmaron 45 víctimas fatales por coronavirus en las últimas 24 horas, con lo que la cifra de muertos tiene un ajuste a 258 '],\n",
              " ['Graças a Deus que o coronavirus já foi descartado de RO'],\n",
              " ['Spain confirms first case of coronavirus - Health Ministry '],\n",
              " ['hopefully nobody has #coronavirus'],\n",
              " [' #URGENTE Estados Unidos declara una emergencia nacional por el coronavirus pulmonar. @TiempoExtremoMu @chematierra @CoahuilayTexas @PepeEnVivo'],\n",
              " ['When one piggybacks on #coronavirus to stay in the news, he is called #KunalKachra'],\n",
              " ['Mi novio tosió una vez, dijo que le dolía la cabeza y cuando menos me lo esperaba tiró “Che, no tendré el virus ese?” refiriéndose al CORONAVIRUS. No se maestro, estuviste en China? Te comiste un murciélago? Lo doy en adopción, interesados por inbox.'],\n",
              " ['Nunca sai do país, ai agora que eu vou sair no meio do ano vem a merda do corona vírus Corona vírus pare Pare imediatamente'],\n",
              " ['Wuhan coronavirus death toll rises to 258 in China with 45 new fatalities '],\n",
              " ['So much going on in the world right now...President Impeachment trials, the UK just left the EU, and the Corona Virus declared was just declared a health emergency by the #WHO 1/2'],\n",
              " ['Coronavirus fears slam the stock market '],\n",
              " [\"Gambar dramatis menunjukkan bagaimana Shanghai telah berubah menjadi 'kota hantu' di tengah wabah coronavirus Ke mana pun kami pergi, ditutup. Tidak ada yang ada di bawah tanah. Meskipun semua toko buka, tidak ada seorang pun di sana. https://www.google.com/amp/s/in.news.yahoo.com/amphtml/shanghai-ghost-town-coronavirus-130527456.html\"],\n",
              " ['Síntomas del coronavirus: '],\n",
              " ['The #coronavirus outbreak is hitting China during their biggest holiday, #LunarNewYear #ChineseNewYear. It’s impacting celebrations both abroad and here at home. Details at 6pm on @tmj4 @CUWisconsin'],\n",
              " ['Si la salud pública está en deuda con la gente, están preparados para enfrentar el #coronavirus y no digan que no llegará.'],\n",
              " ['#coronarovirus #facts This coronavirus stuff is crap. Complete fear mongering by the media Coronaviruses are a group of viruses that cause diseases in mammals and birds. In humans, the viruses cause respiratory infections which are typically mild including the common cold'],\n",
              " ['Corona virus chegou a cascais rip Ahahahah'],\n",
              " ['Apenas publicó esto (sobre el coronavirus creado artificialmente como bioweapon), Twitter suspendió la cuenta de Zerohedge '],\n",
              " ['Impressionante mídia agora diz coisas sobre #CoronaVírus que já falei há dias @GenivanVale #SUS @minsaude'],\n",
              " ['Pues ya hay desinfectante en spray en el mercado desde hace años para el coronavirus. y se vende en autoservicios Ahi te encargo'],\n",
              " ['Right. I’m just saying if coronavirus gets around - the world will keep spinning, the sun will come up and humanity will move forward.'],\n",
              " ['Han con el Rx7 versión corona virus'],\n",
              " ['Corona virus'],\n",
              " ['More than 75,000 people -- ten times the official tally of confirmed cases -- have been infected with the #coronavirus in #Wuhan, ground zero of a global health emergency, according to research published Friday.'],\n",
              " ['Drive all the way to friggin’ Bristol for the @SnowTheGoalie pod, and @AntSanPhilly’s got Coronavirus… WTF #GoFlyers'],\n",
              " ['This crap is never going to end until they get their little #socialist revolution and judging from their gun control obsession they are are going to lose biggly and quickly #LiberalismIsAMentalDisorder infecting this country like the coronavirus in China'],\n",
              " ['Yay coronavirus might be on Maui'],\n",
              " ['Eu vendo os memes do coronavirus//Curitiba tem caso suspeito '],\n",
              " ['I get that the corona virus is haute couture in the world of communicable illnesses rn, but the standard, seasonal (non pandemic) flu is still the biggest killer worldwide (600,000+) annually, on average and much bigger risk to you and your family.'],\n",
              " [\"Coronavirus Has Europe Treating Chinese People Like the Plague https://www.thedailybeast.com/coronavirus-has-europe-treating-chinese-people-like-the-plague?source=twitter&amp;via=desktop via @thedailybeast | It's doing wonders for Trump's stock market as well.\"],\n",
              " ['Trying to write a very original joke and just curious, has anyone pointed out that coronavirus sounds remarkably similar to a popular brand of beer?'],\n",
              " ['I already have 5000. I bought tel because their first corridor opens to the countries around the Corona virus. Send money by telephone #'],\n",
              " ['España confirma su primer caso de positivo por coronavirus de Wuhan '],\n",
              " ['Wyguglujcie sobie tego pana - nie wygląda na sympatyka teorii spiskowych. Myslę, że zbyt lekceważymy to co dzieje w #Wuhan i czym jest #coronavirus'],\n",
              " ['Aca el nuevo ministro.. y contagiado del coronavirus. '],\n",
              " ['Qué coñazo estáis dando con el coronavirus sin tener ni puta idea del tema \\u200d '],\n",
              " ['At least the coronavirus has culture :-)'],\n",
              " ['Almost 10000 cases of Euhan Coronavirus #2019nCoV @ivanovich13 @torresviera @SIAC_cardio @InfectiousDz @HeartOTXHeartMD @igormorr @ernestocardio @nahirmu @Lguevaramath @DrPontecarlosi @rigotordoc @SVMI_Nacional @vfinizola @SalazarMJA @vic_pallares @OnlineIMT @jjamaro'],\n",
              " ['#InternetStillUndefeated #MadeInChina #CoronaVirus @China https://www.instagram.com/p/B8ANi1ql5fj/?igshid=p3tslv2v8v3n'],\n",
              " ['Market lost 600 points because Asia growth may clog due to coronavirus. I thought Trump liberated us ftom dependence on foreign markets.'],\n",
              " ['Comunque sospendere l’account di Zerohedge perché ha insinuato che il coronavirus potrebbe essere stato prodotto in quel laboratorio è una porcata in mancanza di elementi certi. Qui una autorevolissima fonte dice lo stesso '],\n",
              " ['Coronavírus gente kakakakakakak '],\n",
              " ['#WUHAN, #China LA GENTE CAEN A TIERRA POR TODOS LADOS #coronavirus https://twitter.com/IsChinar/status/1220379066764877824/video/1'],\n",
              " ['Erstmals Coronavirus in Spanien &amp;ndash; Deutscher isoliert '],\n",
              " ['Why is #NewZealand government doing just what #WHO recommends, while #USA government is doing more? #Coronavirus #VoteHerOut'],\n",
              " ['El alemán aislado en la Gomera por el coronavirus '],\n",
              " [\"My moms making me get the flu shot rn so I don't get influenza and Corona virus at the same time\"],\n",
              " ['You’re telling me a dude that had corona virus is cured enough to send him home to his wife who also has the virus , tell me how he won’t get it again ffs the fumble in this situation in our health officials is unprecedented'],\n",
              " ['MANO coronavirus no &gt;&gt;&gt;&gt;&gt;&gt;&gt;&gt;&gt;REINO UNIDO&lt;&lt;&lt;&lt;&lt;&lt;&lt;&lt;&lt;&lt; * surto psicótico *'],\n",
              " ['Suspected case of coronavirus found in Dallas http://va.newsrepublic.net/s/ZRcejf'],\n",
              " ['They were spreading false info about coronavirus'],\n",
              " [\"Careful. I think that's where the coronavirus comes from. . .\"],\n",
              " ['Coronavirus? Bitch I drink IPA. '],\n",
              " ['Listening to @scifri on the new corona virus; it likely will travel the globe in the next year or so. Too early to estimate fatality rates, though probably “low or single digits”. Discussion of vaccine, other aspects on this week’s episode.'],\n",
              " ['‘Nuovo coronavirus’: le linee guida del Ministero della Salute '],\n",
              " ['Can we all just agree to rename the Corona Virus to Kung Flu please and thanks #coronavirus #kungflu'],\n",
              " ['Hay gente que en serio está diciendo que Fabiola es mas linda y elegante que Juliana. #coronavirus, haz lo tuyo'],\n",
              " ['corona virus tá aí há mó tempão galero '],\n",
              " ['Ptm, yo con mis defensas de pollito y viene esa mierda del coronavirus:) salu '],\n",
              " ['@NEJM #coronavirus '],\n",
              " ['ainda não há nenhum caso confirmado de corona vírus no Brasil porque claramente o vírus tem medo do Brasileiro'],\n",
              " ['If they wanted us to take the Corona virus seriously they shouldn’t have named it after a vacation beer'],\n",
              " ['@baitaamigos O Craque neto você está com uma tosse lascada, é o corona virus?'],\n",
              " ['Confirmed case of the corona virus at my work. Gr '],\n",
              " [\"Other than the Coronavirus, that's an awesome list.\"],\n",
              " ['o coronavirus chegou aqui na minha cidade..... '],\n",
              " ['Facebook puede predecir expansión del coronavirus con datos de ubicación de usuarios '],\n",
              " ['antes que exista uma epidemia do corona vírus ninguém quer por favor dar-me um beijinho? '],\n",
              " ['Airlines stop flights to China due to coronavirus, Chinese furious https://mol.im/a/7952787 via @MailOnline @RealDonaldTrump @DonaldJTrumpJr @EricTrump @parscale @Scavino45 @MariaBartiromo @IngrahamAngle @seanhannity @TuckerCarlson @JudgeJeanine @PrisonPlanet @dbongino'],\n",
              " ['Ustedes le tienen miedo al coronavirus, pero hay otra enfermedad peor que infecta mayormente a los deforestados mentales, se llama progresismo, ojo que no se te pegue esa mugre.'],\n",
              " ['El coronavirus No creo que resista con todos estos! '],\n",
              " ['banheiro sujo + pe de lata do mine = coronavírus'],\n",
              " ['Nos merecemos todos los coronavirus del mundo #viejademierda'],\n",
              " ['Coronavirus: First case confirmed in Santa Clara County '],\n",
              " ['Andrés Legarretá, a los mexicanos no les afecta el corona virus, pues no somos chinos! Tampoco nos afecta porque tomamos victoria virus!'],\n",
              " ['#WeatherChannel U.S. Declares Public Health Emergency Over Coronavirus; Seventh Case Confirmed in U.S. See http://www.weather.com/health/cold-flu/news/2020-01-31-us-public-health-emergency-coronavirus for the full forecast or download The Weather Channel Mobile App for Android and iOS'],\n",
              " ['¡Cuidado! Archivos sobre el coronavirus podrían infectar tus dispositivos http://dlvr.it/RP8XRq'],\n",
              " ['HAN? Se prendió ese coronavirus '],\n",
              " ['Coronavirus Travel: 3 Major U.S. Airlines Suspend China Flights http://dlvr.it/RP8XRg'],\n",
              " ['corona virus say hi '],\n",
              " ['https://youtu.be/kd0efGDrlpo #فيروس_كورونا #coronavirus #CountingOn'],\n",
              " ['CORONAVIRUS could kill 500 million people....'],\n",
              " ['YO: Uruguay al fin sirve de algo, no hay ningún tipo de alerta sobre el coronavirus NOTICIAS: MSP estudia caso de extranjera proveniente de China por posibilidad de ser portadora del coronavirus YO: '],\n",
              " ['No os asustéis...los chinos son gente de Salud frágil, aquí el coronavirus serán gases!'],\n",
              " ['Assunto: Ações do governo brasileiro diante do coronavírus. https://youtu.be/5534i8ewZ4w via @YouTube'],\n",
              " ['Y’all so annoying. Jokes about the corona virus isn’t funny but jokes about ebola was? Go to hell pls'],\n",
              " ['258 morti e 11000 casi di #coronavirus in Cina. Primo caso in Spagna: si tratta di contatti di un tedesco contagiato e quindi erano già in isolamento (fonte @guardian).'],\n",
              " ['#EEUU pone en cuarentena de dos semanas a 195 ciudadanos evacuados de #China por #coronavirus '],\n",
              " ['Chucha!!y yo con mi marido nos negamos ese derecho y asi como nosotros..varios q conozco, preferimos dejar esa plata en caso de cualquier cosa q pase y ellos,dándose las medias vacaciones, pero ojala q se les pegue el coronavirus y no vuelvan jamas!!! '],\n",
              " ['Yo era amigo de Coronavirus ...pero me infecté https://youtu.be/Cy94zn3AAa8 vía @YouTube'],\n",
              " ['Confirmaron el 1° caso de Coronavirus en España.'],\n",
              " [\"Coronavirus Death Toll Hits 257 As mainstream fear mongering hoopla continues unchecked on the world's biggest freedom grab ever. \"],\n",
              " ['Literally the first movie i think of when i first heard of Corona virus.'],\n",
              " ['Not to be rude but I wish everyone in America would get coronavirus and die, but in the same way that Iranians say “death to America”'],\n",
              " ['Valla po bir amo po mdoket koka me coronavirus a pe sheh qysh po rrin me mask'],\n",
              " ['La Cumbia del #CoronaVirus como cuidarnos https://youtu.be/KqasQyatfBQ vía @YouTube'],\n",
              " ['CORONAVIRUS SPREADING: Another case has just been confirmed in California. '],\n",
              " ['I have no doubt the Coronavirus started in a McDonalds Playplace.'],\n",
              " ['Ùltima hora: Coronavirus Sanidad confirma el primer caso en España: un alemán en La Gomera, Tenerife @zea156'],\n",
              " ['i can cure your coronavirus '],\n",
              " ['CNN slammed when it complains Trump task force working to combat Coronavirus is too male and white https://www.bizpacreview.com/2020/01/31/cnn-slammed-when-it-complains-trump-task-force-working-to-combat-coronavirus-is-too-male-and-white-881426 via @BIZPACReview'],\n",
              " ['no medical then Corona virus brings the whole club down wait and see relegation'],\n",
              " ['“Look Coronavirus chose us to be the first football club it would infect, so we’re obviously going places....” '],\n",
              " ['#NCYT Detect #coronavirus #virus other #respitorydiesese Reduce spread of viruses Saving potential mass death #priceless Buy this, if this kit helps your loved ones - then that is priceless!!!'],\n",
              " ['Facebook to remove false claims related to the coronavirus outbreak '],\n",
              " ['Coronavirus vaccine to be developed from digital DNA sequencing | Fox News https://lnkd.in/eiMPyC2'],\n",
              " ['#DonaldTrump #Israel #palestine #peaceplan #Bible #EndTimes #EndofWorld #LastDays #Earthquakes #Coronavirus #Lost #Lonely #JesusChrist #Salvation'],\n",
              " ['tamo bem bh, o caso de corona vírus aqui foi descartado'],\n",
              " ['If there is a God, you will get the Coronavirus.'],\n",
              " ['Then contracting the Coronavirus... some people.'],\n",
              " ['Yikes. 36 states have people under surveillance for 2019 coronavirus '],\n",
              " ['This is the kind of sh!t that gives a person Coronavirus!'],\n",
              " ['The CDC confirmed the first case of #coronavirus in the Bay Area today. The new case marks the sixth confirmed in the U.S. and the third in California, but health officials still say the risk to the general public is low. '],\n",
              " ['¡¡El #coronavirus es malo y silencioso!! '],\n",
              " ['dps que pega coronavírus não sabe pq '],\n",
              " ['Coronavirus Update with @jamesLmcgregor and @CDCgov'],\n",
              " ['Hunters becoming the hunted is very much justified . Mother Earth is for all living species . Humans needed to be taught a lesson in this regard by none other than Nature . See now Coronavirus. Believe humans are more susceptible to getting infected . '],\n",
              " ['Analysis: Coronavirus infections around the world https://youtu.be/wektRBsfaAI via @YouTube'],\n",
              " ['Every tRump Dupporter should go out and buy a new MAGA Hat, considering they all come from China, and they still don’t know how the corona virus is spread! It could be Jm the MAGS Hats!'],\n",
              " ['não queria me estressar com o racismo descabido com os asiáticos em relação ao corona vírus mas puts ja to vendo que não vai dar'],\n",
              " ['me da muchísima rabia la desinformacion que hay con el coronavirus y que la gente se crea que se acaba el mundo, y la realidad es que si lees esto me debes un beso si sigues leyendo me debes dos y si has llegado hasta aquí pues ya somos pareja'],\n",
              " ['Corona virus just an excuse for surveillance. '],\n",
              " ['The Chinese regime must come clean. Did the coronavirus originate from their biological warfare centre in Wuhan? They cannot prevaricate. @tomsteinfort'],\n",
              " ['AND NOW FOR SOMETHING DIFFERENT; Coronavirus Contains \"HIV Insertions\", Stoking Fears Over Artificially Created Bioweapon | Zero Hedge '],\n",
              " ['Jajajaja no mames atiendo chinos diario jajaja soy inmune al coronavirus pero descubrí que le entro agua entre su cristal templado y la pantalla y por eso hacia mamadas el touch Jajajaja ya lo arreglé :,v necesito otro cristal templado'],\n",
              " ['Death Toll from Coronavirus Virus Hits 132, with 6,000 Infected https://www.democracynow.org/2020/1/29/headlines/death_toll_from_coronavirus_virus_hits_132_with_6_000_infected via @democracynow'],\n",
              " ['U.S. Declares Public Health Emergency Over Coronavirus https://www.weather.com/health/cold-flu/news/2020-01-31-us-public-health-emergency-coronavirus'],\n",
              " ['Las gripes de cada año son causa de muerte de igual o más número de personas. Es necesario guardar la calma, usar medidas de higiene indispensables y escuchar a las autoridades sanitarias: \"Declara la OMS alerta internacional por el coronavirus 2019-nCov\" '],\n",
              " ['Plague inc. Coronavirus 2020 full apk'],\n",
              " [' Ighalo saw coronavirus in China And said I gotta get the fuck out this jawn'],\n",
              " ['#CoronaVirus Billy Gates Admits It! We Already Had That Proof, SICKO https://www.dailymail.co.uk/news/article-7951293/Bill-Gates-Predicted-Coronavirus-Like-Outbreak-2019-Netflix-Documentary.html'],\n",
              " [\"If so you're freaked out about coronavirus to engage in casual racism then you have enough concern to wash your hands, for at least 30 seconds, with soap &amp; warm water, then dry with a paper towel (don't use an air dryer - those things spread bacteria like sharehouse cockroaches)\"],\n",
              " ['Is He Onto Something? Dude Says The Corona Virus Is An Old Thing! - https://go.shr.lc/31cWM1i via @Worldstar #WSHH #WORLDSTAR'],\n",
              " ['(also the coronavirus, what this debate is all about, isn’t even that big of a deal) it harms the elderly and young more just as the flu does. 60,000 to 80,000 deaths in the US each year but there is no freaking out about that. fear of coronavirus stems from racism/xenophobia.'],\n",
              " ['Corona Virus Killed the Rally. IHSG Technical break support. BEARISH. '],\n",
              " ['Lean, es importante difundir la verdad sobre lo que hizo el gobierno chino con el coronavirus!!!!!!! '],\n",
              " ['bruh the coronavirus is confirmed in kyoto. good thing i’m an introvert cuz i ain’t leaving home ever again.'],\n",
              " ['Facebook te dará información útil sobre el coronavirus http://colimadigital.com/final/index.php?tn=7&amp;n=35680 #Facebook te dará información útil sobre el coronavirus vía @ColimaDigital1'],\n",
              " ['Keeping People Safe and Informed About the Coronavirus - About Facebook \\u2066@Felicea\\u2069'],\n",
              " [\"I would not be shocked if there's a post somewhere saying that beaver penis is a cure for the coronavirus.\"],\n",
              " ['UK just had its first 2 cases of the coronavirus and today we officially ledt the EU. The country is fucked, end of discussion.'],\n",
              " ['Trazendo a cura do corona virus pra vcs '],\n",
              " ['Stop finding a reason to cry about everything it’s a joke no one genuinely thinks Jeff Shi has the coronavirus'],\n",
              " ['If China fails to contain the coronavirus outbreak, the price will be paid by all | South China Morning Post '],\n",
              " ['Suspeita de corona virus em pelotas e eu to como? Em choque'],\n",
              " ['https://www.intramed.net/95401 LA INFECCIÓN POR CORONAVIRUS MAS QUE SIMPLE RESFRIADO COMÚN'],\n",
              " ['I keep seeing post about how \"they knew this whole time\" Guys the word coronavirus is a term to group up some respiratory virus l, like the cold or the flu are coronavirus It\\'s like a husky and a corgi, both are dogs but different '],\n",
              " ['contador #Coronavirus datos a la mañana del 01-02 en China #SaleUnaSchneider #RenunciaFrederic'],\n",
              " ['Spain confirms first case of Coronavirus Spain is my neighbor country nuuuuu '],\n",
              " ['#Coronavirus FAQs – @WHONigeria!'],\n",
              " [\"Oh, I get it, so since I am worried about the flu and get my flu shot every year, now I'm allowed to worry about coronavirus? Make jokes, even, to deal with that worry? Is that how it works?\"],\n",
              " ['US declares public health emergency over coronavirus, announces temporary travel ban - ABC News - via @ABC'],\n",
              " ['Tiene sentido. Aquí se les acusa primero y después se comprueba. En este caso a cualquiera con gripe le dirán que tiene coronavirus, pasará días hasta no tener pruebas y lo dejarán en libertad'],\n",
              " ['I think the world is more concerned with the Corona virus rather than some 2 dollar subway fares lmao '],\n",
              " ['The best book title ever? \"Everything Trump touches dies\". It is amazing - anyone that comes in contact with the man gets corrupted and ends up going to hell. He is the corona virus of corruption.'],\n",
              " ['corona VIRUS,....otro GRAN LOGRO d los LABORATORIOS d GUERRA BIOLOGICA del NORTE'],\n",
              " ['That coronavirus is picking up steam.'],\n",
              " ['Does Corona Virus give you “rhythm of the night”?'],\n",
              " ['Corona Virus اكتشفوه منذ ١٩٦٠ و بالصين بسنة ٢٠٠٣ رجع بغير سلالة وسبب هواي وفيات بسبب SARS وهذا الفلم تم انتاجه بسنة ٢٠١١ يحجي عن سلالة الفيروس الصار قبل انتاجه ب ٨ سنوات. يعني الفلم ما تنبأ بالمرض لان اصلا المرض كان موجود. Sars= Sever Cute Respiratory Syndrome.'],\n",
              " ['#Atención No se ha visto ninguna preocupación de parte del Régimen x la alta probabilidad q llegue el #CoronaVirus a Vzla Sin Hospitales ni Medicamentos en corto plazo pudiéramos estar ante una emergencia en #Salud de incalculables consecuencias #EmergenciaSanitaria #Prevención'],\n",
              " ['Essa e a cura pro coronavirus, coloca ele lá dentro, aí ele morre de desgosto'],\n",
              " ['Os imbecis não têm conduta ilibada, nunca. => Bolsonaro fala sobre o Coronavírus, cala jornalista e deixa coletiva apó... https://youtu.be/xjtMoF89NxQ via @YouTube'],\n",
              " ['Coronavirus en España. '],\n",
              " ['Cyber criminals using #Coronavirus emergency to spread malware (via @CSecurityAlerts #Cybersecurity News)'],\n",
              " ['I’m not really trying to freak out. I need more info. Out of the 9,500 cases only 200 have died. Are these 200 healthy adults? Or all the 200 young kids and old people. Also more people have died from the regular flu that this coronavirus so not sure there is really a threat'],\n",
              " ['Coronavirus update: US records first human-to-human transmission as WHO declares global emergency '],\n",
              " ['#unitedstates throws the first #punch hitting China’s economy with #tariffs #china #counterpunches #wallstreet with the #coronavirus #lifeisabitch'],\n",
              " ['Airlines stop flights to China due to coronavirus, Chinese furious https://mol.im/a/7952787 @MailOnline'],\n",
              " ['Contagiados de #CoronaVirus'],\n",
              " ['The year 2020 was not able to attend because the new species coronavirus that occurred in China also occurred in Korea, which could cause damage to others. I hope you get good results.'],\n",
              " [\"Pour moi, signe de top imminent lorsqu'on voit Amazon jumpé de 10% aujourd'hui sur leur résultats alors que tout ce qu'ils vendent est fait en Chine qui est en train de tout fermer pour le coronavirus et en même temps une drop de 2% du Dow. Qui en a acheté à 2050? Me semble que..\"],\n",
              " ['Can someone with the coronavirus just spit in my mouth already, ‘ave had enough.'],\n",
              " ['\"As pessoas estão à beira da em loucura #Wuhan. Na frente do hospital, esta mulher está gritando dizendo: \"estou com febre há 10 dias, mas não há camas suficientes.\" #Coronavirus '],\n",
              " ['நோய்நாடி நோய்முதல் நாடி அதுதணிக்கும் வாய்நாடி வாய்ப்பச் செயல். நோய் இன்னதென்று ஆராய்ந்து, நோயின் காரணம் ஆராய்ந்து, அதைத் தணிக்கும் வழியையும் ஆராய்ந்து, உடலுக்கு பொருந்தும் படியாகச் செய்யவேண்டும். #CoronaVirus '],\n",
              " ['Centenas de estrangeiros que estavam na China estão sendo repatriados devido ao surto de coronavírus. O número de mortos no país chegou a 213, e o de infectados se aproxima de 10 mil. #JornaldaBand #BandJornalismo'],\n",
              " [\"Advogado pede que STF obrigue Bolsonaro a 'resgatar' brasileiros do coronavírus na China \"],\n",
              " ['Outra coisa ñ mas esses últimos dias só tô vendo vídeos desse tal de CORONAVÍRUS'],\n",
              " [\"Forgot that Scotty of @strangepartscom is based in China. Here's a video on his take of the situation there with the coronavirus and all. \"],\n",
              " ['Terkait kecenderungan laju penyebaran #nCoV2019 #coronavirus akan bergantung pada efektifitas program pengendalian yg dilakukan negara terdampak wabah dan sejauhmana masyarakat nya melakukan upaya risk-reducing behaviours.'],\n",
              " ['7 suspeitos do coronavirus em sp pqp'],\n",
              " ['Fake news on corona virus is being enforced.'],\n",
              " ['So United’s best attack this season will be Ighalo passing on the Coronavirus'],\n",
              " ['Catorce de los 18 mexicanos residentes en la zona del brote de coronavirus no pueden ser repatriados https://www.infobae.com/america/mexico/2020/01/31/catorce-de-los-18-mexicanos-residentes-en-la-zona-del-brote-de-coronavirus-no-pueden-ser-repatriados/ no fuera Evo Morales porque ya estaría en México.'],\n",
              " [' #CHINA #ÚLTIMAHORA | Aumentó a 259 muertos y 11 mil 180 infectados a causa del #coronavirus. Actualmente hay 15 mil 238 casos sospechosos. #2019nCoV'],\n",
              " ['Airlines suspend China flights because of coronavirus outbreak https://www.articletrunk.com/airlines-suspend-china-flights-because-of-coronavirus-outbreak/'],\n",
              " ['Coronavírus: principais sintomas e prevenção https://youtu.be/4mLXQ3GiOZM via @YouTube'],\n",
              " ['Does article below qualify for tweeter suspension ? #coronavirus #FreeZeroHedge SHOCKING NEWS: China orders Mass Slaughter of all domestic pets - Euro Weekly News Spain https://www.euroweeklynews.com/2020/01/31/shocking-news-china-orders-mass-slaughter-of-all-domestic-pets/'],\n",
              " ['Valimos verga ya hay coronavirus en España. Estamos doomed.'],\n",
              " ['Ninguém no Brasil confirmado com o corona vírus Amém Deus'],\n",
              " ['Nah, lo mismo ocurrió en su momento con el H1N1 en México y este fue peor, ya habían muchas más muertes que las que hay en China por el Corona Virus'],\n",
              " ['\"The finding of 4 unique inserts in the 2019-nCoV, all of which have identity /similarity to amino acid residues in key structural proteins of HIV-1 is unlikely to be fortuitous in nature. \" note: \"unlikely to be fortuitous\" aka manmade https://www.biorxiv.org/content/10.1101/2020.01.30.927871v1 #coronavirus'],\n",
              " ['Wrong. Coronavirus kill rate is 2-2.5%. '],\n",
              " ['A physician who said he developed \"a nasty cold with a cough and runny nose\" while on a flight from Hong Kong to Toronto is questioning whether there are adequate safeguards to prevent the spread of coronavirus in Canada. https://www.cbc.ca/news/canada/toronto/airport-screening-coronavirus-canada-toronto-1.5446959?fbclid=IwAR0aJEzelf3lJkVWkIoSuOT1xJ6MQlBir_D0mZgenRI96k4Fag0zETcqHhY @PattyHajdu @CPHO_Canada'],\n",
              " ['El precio de Bitcoin cae un 3% por Brexit y Coronavirus en el Reino Unido https://bitcoinfeed.news/es/cointelegraph-es/2020/01/31/el-precio-de-bitcoin-cae-un-3-por-brexit-y-coronavirus-en-el-reino-unido/'],\n",
              " ['Estamos esperando que digan que estamos preparados en caso de que llegue el Coronavirus...pero no estamos preparados ni para ver llegar el lunes que viene...'],\n",
              " ['Creve de coronavirus'],\n",
              " ['Caso haja traços de DNA, não resta dúvida de que o Coronavírus saíu de Laboratório! O Coranavírus SARS-CoV&gt; Severe Acute Respiratory Síndrome, parece estar relacionado com Morcegos. Encontram-se vulneráveis sistema imunológico comprometidos: Crianças e Idosos, Diabéticos.'],\n",
              " ['Yo he cenado torreznos. Pero aún no sabía lo del coronavirus en España'],\n",
              " ['Comunque prima quando sono andata a scannerizzare il disegno che avevo fatto ho visto vicino all’ascensore appeso il sapone con scritto “lavatevi le mani che il Coronavirus è dappertutto” e un po’ mi è dispiaciuto per la ragazza asiatica accanto a me con gli scatoloni'],\n",
              " [\"@kelliwardaz there are a lot of people walking around wearing masks in @SierraVistaAZ today. I'm no Doctor no do I play one on TV. I'm sorry for those who have died from #coronavirus but in truth it's a VERY small percentage and this has been blown way out of proportion.\"],\n",
              " ['Coronavirus, it is so dangerous. ｺﾛﾅｳｲﾙｽｺﾜｲﾜﾈ(・・;)'],\n",
              " ['God really is a Trini all the animals men does eat back home and no coronavirus'],\n",
              " ['Gasolina e diesel recuam nos postos após Petrobras cortar preços nas refinarias https://br.reuters.com/article/businessNews/idBRKBN1ZU35V-OBRBS &gt;&gt; retração vem em meio a queda dos preços do petróleo no mercado internacional por temores sobre efeito do coronavírus na China na demanda pela commodity -#PETR4 #BRDT3'],\n",
              " ['“The whole world is watching” Ah, yes. NYC subway fares, right up there with; Coronavirus Brexit Hong Kong protests Iran Etc, etc '],\n",
              " ['Chegou um pacote pra mim do Aliexpress e agora tô com medo de está contaminado com o corona vírus. Por favor, alguém me fala que é só paranóia e tá tudo certo em abrir o pacote. '],\n",
              " ['coronavirus na tuga nada que o AVG 2020 antivírus gratuito vpn e tuneup nao resolva'],\n",
              " ['No te moriste del coronavirus o algo asi'],\n",
              " ['E vamo de coronavírus pão e circo!!!!!!! preocupam-se só com isso '],\n",
              " ['corona VIRUS,....otro GRAN LOGRO d los LABORATORIOS d GUERRA BIOLOGICA del NORTE'],\n",
              " ['Jajajajajaja la que tiene el verdadero coronavirus soy yo '],\n",
              " ['taeyong vou comprar um xarope pra vc ta bom nego todo show essa tosse meu bem assim nao da ne com esse coronavirus ai nao pode dar mole ja to chegando com o benegripe mor!! '],\n",
              " ['Ontario confirms 3rd coronavirus patient, Toronto hospital discharges the 1st one | CBC News '],\n",
              " ['Coronavirus = Instagram mask marketing '],\n",
              " ['Je. Le han suspendido la cuenta a @zerohedge . La web sigue accesible . Supongo que por la historia esa del coronavirus'],\n",
              " ['Minging, funny, clever . #coronavirus #banter @FootballFunnnys ']]"
            ]
          },
          "metadata": {
            "tags": []
          },
          "execution_count": 9
        }
      ]
    },
    {
      "cell_type": "code",
      "metadata": {
        "id": "ZKqnFZQt-l7p",
        "colab_type": "code",
        "colab": {
          "base_uri": "https://localhost:8080/",
          "height": 68
        },
        "outputId": "4cf1d2ee-eea3-42bc-c25b-8beaf83ee604"
      },
      "source": [
        "nltk.download('punkt')"
      ],
      "execution_count": 10,
      "outputs": [
        {
          "output_type": "stream",
          "text": [
            "[nltk_data] Downloading package punkt to /root/nltk_data...\n",
            "[nltk_data]   Unzipping tokenizers/punkt.zip.\n"
          ],
          "name": "stdout"
        },
        {
          "output_type": "execute_result",
          "data": {
            "text/plain": [
              "True"
            ]
          },
          "metadata": {
            "tags": []
          },
          "execution_count": 10
        }
      ]
    },
    {
      "cell_type": "code",
      "metadata": {
        "id": "t-6c72T_AtTF",
        "colab_type": "code",
        "colab": {}
      },
      "source": [
        "text_before=''\n",
        "for i in range(0,len(before)):\n",
        "    text_before=text_before+'. '+before[i][0]\n",
        "lower=text_before.lower()\n",
        "\n",
        "cleaned_text=lower.translate(str.maketrans('','',string.punctuation))\n",
        "\n",
        "from nltk.tokenize import word_tokenize\n",
        "tokens=word_tokenize(cleaned_text,'english')"
      ],
      "execution_count": 11,
      "outputs": []
    },
    {
      "cell_type": "code",
      "metadata": {
        "id": "nPC_RjIlA4oD",
        "colab_type": "code",
        "colab": {
          "base_uri": "https://localhost:8080/",
          "height": 34
        },
        "outputId": "67b28910-8444-471b-afff-8a9de700eec7"
      },
      "source": [
        "len(tokens)"
      ],
      "execution_count": 12,
      "outputs": [
        {
          "output_type": "execute_result",
          "data": {
            "text/plain": [
              "9163"
            ]
          },
          "metadata": {
            "tags": []
          },
          "execution_count": 12
        }
      ]
    },
    {
      "cell_type": "code",
      "metadata": {
        "id": "JA-35YFWA-O7",
        "colab_type": "code",
        "colab": {
          "base_uri": "https://localhost:8080/",
          "height": 68
        },
        "outputId": "9eb62dc4-7444-4a36-ff8f-0afcf89fa8c6"
      },
      "source": [
        "nltk.download('stopwords')"
      ],
      "execution_count": 13,
      "outputs": [
        {
          "output_type": "stream",
          "text": [
            "[nltk_data] Downloading package stopwords to /root/nltk_data...\n",
            "[nltk_data]   Unzipping corpora/stopwords.zip.\n"
          ],
          "name": "stdout"
        },
        {
          "output_type": "execute_result",
          "data": {
            "text/plain": [
              "True"
            ]
          },
          "metadata": {
            "tags": []
          },
          "execution_count": 13
        }
      ]
    },
    {
      "cell_type": "code",
      "metadata": {
        "id": "KGoNZy3fBETW",
        "colab_type": "code",
        "colab": {}
      },
      "source": [
        "stop_words=stopwords.words('english')\n",
        "from nltk.corpus import stopwords\n",
        "words=[word for word in tokens if word not in stop_words]"
      ],
      "execution_count": 17,
      "outputs": []
    },
    {
      "cell_type": "code",
      "metadata": {
        "id": "DuLhrJnLEb5R",
        "colab_type": "code",
        "colab": {
          "base_uri": "https://localhost:8080/",
          "height": 34
        },
        "outputId": "5f24dfd3-5007-4560-ba30-5fd0799c5f6c"
      },
      "source": [
        "len(words)"
      ],
      "execution_count": 18,
      "outputs": [
        {
          "output_type": "execute_result",
          "data": {
            "text/plain": [
              "7032"
            ]
          },
          "metadata": {
            "tags": []
          },
          "execution_count": 18
        }
      ]
    },
    {
      "cell_type": "code",
      "metadata": {
        "id": "xVo_-EuWEuRy",
        "colab_type": "code",
        "colab": {
          "base_uri": "https://localhost:8080/",
          "height": 68
        },
        "outputId": "d4e3df5a-323b-4d83-f335-2013eb076ecc"
      },
      "source": [
        "nltk.download('wordnet')"
      ],
      "execution_count": 19,
      "outputs": [
        {
          "output_type": "stream",
          "text": [
            "[nltk_data] Downloading package wordnet to /root/nltk_data...\n",
            "[nltk_data]   Unzipping corpora/wordnet.zip.\n"
          ],
          "name": "stdout"
        },
        {
          "output_type": "execute_result",
          "data": {
            "text/plain": [
              "True"
            ]
          },
          "metadata": {
            "tags": []
          },
          "execution_count": 19
        }
      ]
    },
    {
      "cell_type": "code",
      "metadata": {
        "id": "kURCcFv8EyFF",
        "colab_type": "code",
        "colab": {}
      },
      "source": [
        "from nltk.stem import WordNetLemmatizer\n",
        "lemma=[(WordNetLemmatizer().lemmatize(word)) for word in words]"
      ],
      "execution_count": 20,
      "outputs": []
    },
    {
      "cell_type": "code",
      "metadata": {
        "id": "CXe3yd2fE0yn",
        "colab_type": "code",
        "colab": {
          "base_uri": "https://localhost:8080/",
          "height": 34
        },
        "outputId": "553e505b-a974-4b7c-ac7d-714bc9ba57c8"
      },
      "source": [
        "len(lemma)"
      ],
      "execution_count": 21,
      "outputs": [
        {
          "output_type": "execute_result",
          "data": {
            "text/plain": [
              "7032"
            ]
          },
          "metadata": {
            "tags": []
          },
          "execution_count": 21
        }
      ]
    },
    {
      "cell_type": "code",
      "metadata": {
        "id": "VwQHIcGiE5MN",
        "colab_type": "code",
        "colab": {
          "base_uri": "https://localhost:8080/",
          "height": 54
        },
        "outputId": "934478c5-7135-4507-81b9-61c74eb5bfe1"
      },
      "source": [
        "clear_line=''\n",
        "emotion_list=[]\n",
        "with open('emotions.txt','r') as file:\n",
        "    for line in file:\n",
        "        clear_line=line.replace(\"\\n\",'').replace(\" \",\"\").replace(\",\",\" \").replace(\"'\",\"\").strip()\n",
        "        word,emotion=clear_line.split(':')\n",
        "        if word in lemma:\n",
        "            emotion_list.append(emotion)\n",
        "            \n",
        "w=Counter(emotion_list)\n",
        "print(w)"
      ],
      "execution_count": 25,
      "outputs": [
        {
          "output_type": "stream",
          "text": [
            "Counter({'sad': 4, 'angry': 3, 'attracted': 3, 'fearful': 3, 'powerless': 3, 'singledout': 3, 'average': 2, 'free': 1, 'alone': 1, 'lost': 1, 'attached': 1, 'surprise': 1, 'adequate': 1, 'happy': 1, 'loved': 1, 'anxious': 1})\n"
          ],
          "name": "stdout"
        }
      ]
    },
    {
      "cell_type": "code",
      "metadata": {
        "id": "WzVQ9qnzE93h",
        "colab_type": "code",
        "colab": {
          "base_uri": "https://localhost:8080/",
          "height": 367
        },
        "outputId": "dfa4bc62-a03d-433b-bbf1-5ac741b88980"
      },
      "source": [
        "fig,ax=plt.subplots(figsize=(12,6))\n",
        "ax.bar(w.keys(),w.values())\n",
        "fig.autofmt_xdate()\n",
        "plt.show()"
      ],
      "execution_count": 26,
      "outputs": [
        {
          "output_type": "display_data",
          "data": {
            "image/png": "[encoded data removed]",
            "text/plain": [
              "<Figure size 864x432 with 1 Axes>"
            ]
          },
          "metadata": {
            "tags": [],
            "needs_background": "light"
          }
        }
      ]
    },
    {
      "cell_type": "code",
      "metadata": {
        "id": "yUScSVb6Flpp",
        "colab_type": "code",
        "colab": {
          "base_uri": "https://localhost:8080/",
          "height": 51
        },
        "outputId": "f0754238-810b-4a48-8936-43de5b87c0bc"
      },
      "source": [
        "nltk.download('vader_lexicon')"
      ],
      "execution_count": 27,
      "outputs": [
        {
          "output_type": "stream",
          "text": [
            "[nltk_data] Downloading package vader_lexicon to /root/nltk_data...\n"
          ],
          "name": "stdout"
        },
        {
          "output_type": "execute_result",
          "data": {
            "text/plain": [
              "True"
            ]
          },
          "metadata": {
            "tags": []
          },
          "execution_count": 27
        }
      ]
    },
    {
      "cell_type": "code",
      "metadata": {
        "id": "1awJMmCtFz0u",
        "colab_type": "code",
        "colab": {
          "base_uri": "https://localhost:8080/",
          "height": 88
        },
        "outputId": "dd0f2c2d-39bc-4987-f3b4-f70300eb3071"
      },
      "source": [
        "from nltk.sentiment.vader import SentimentIntensityAnalyzer\n",
        "sia=SentimentIntensityAnalyzer()\n",
        "sia.polarity_scores(cleaned_text)"
      ],
      "execution_count": 28,
      "outputs": [
        {
          "output_type": "stream",
          "text": [
            "/usr/local/lib/python3.6/dist-packages/nltk/twitter/__init__.py:20: UserWarning: The twython library has not been installed. Some functionality from the twitter package will not be available.\n",
            "  warnings.warn(\"The twython library has not been installed. \"\n"
          ],
          "name": "stderr"
        },
        {
          "output_type": "execute_result",
          "data": {
            "text/plain": [
              "{'compound': -1.0, 'neg': 0.113, 'neu': 0.836, 'pos': 0.05}"
            ]
          },
          "metadata": {
            "tags": []
          },
          "execution_count": 28
        }
      ]
    },
    {
      "cell_type": "code",
      "metadata": {
        "id": "A1BtnLLBF2X5",
        "colab_type": "code",
        "colab": {}
      },
      "source": [
        "# After the outbreak\n",
        "after=get_tweets('corona virus','2020-03-25','2020-04-30',500)\n",
        "#after"
      ],
      "execution_count": 29,
      "outputs": []
    },
    {
      "cell_type": "code",
      "metadata": {
        "id": "EnxQNd_SF52g",
        "colab_type": "code",
        "colab": {}
      },
      "source": [
        "text_after=''\n",
        "for i in range(0,len(after)):\n",
        "    text_after=text_after+'. '+after[i][0]\n",
        "lower_after=text_after.lower()\n",
        "\n",
        "cleaned_after=lower_after.translate(str.maketrans('','',string.punctuation))\n",
        "\n",
        "words_after=word_tokenize(cleaned_after,'english')"
      ],
      "execution_count": 30,
      "outputs": []
    },
    {
      "cell_type": "code",
      "metadata": {
        "id": "2GDTlWTVGEYv",
        "colab_type": "code",
        "colab": {
          "base_uri": "https://localhost:8080/",
          "height": 34
        },
        "outputId": "d07a36dd-97e9-4635-d786-ec4e09d19ab1"
      },
      "source": [
        "len(words_after)"
      ],
      "execution_count": 31,
      "outputs": [
        {
          "output_type": "execute_result",
          "data": {
            "text/plain": [
              "11347"
            ]
          },
          "metadata": {
            "tags": []
          },
          "execution_count": 31
        }
      ]
    },
    {
      "cell_type": "code",
      "metadata": {
        "id": "m0yMsfzDGNJt",
        "colab_type": "code",
        "colab": {
          "base_uri": "https://localhost:8080/",
          "height": 34
        },
        "outputId": "8dd2f3ec-2038-4dbe-e196-56c8ef8e70b2"
      },
      "source": [
        "words_as=[word for word in words_after if word not in stop_words]\n",
        "len(words_as)"
      ],
      "execution_count": 34,
      "outputs": [
        {
          "output_type": "execute_result",
          "data": {
            "text/plain": [
              "8945"
            ]
          },
          "metadata": {
            "tags": []
          },
          "execution_count": 34
        }
      ]
    },
    {
      "cell_type": "code",
      "metadata": {
        "id": "Ytb9-IHmGTvq",
        "colab_type": "code",
        "colab": {}
      },
      "source": [
        ""
      ],
      "execution_count": 34,
      "outputs": []
    },
    {
      "cell_type": "code",
      "metadata": {
        "id": "JNmnO6hGGWbd",
        "colab_type": "code",
        "colab": {
          "base_uri": "https://localhost:8080/",
          "height": 54
        },
        "outputId": "c2b63532-1f36-4001-b6aa-e0a202362cd7"
      },
      "source": [
        "clear_line=''\n",
        "emotion_list=[]\n",
        "with open('emotions.txt','r') as file:\n",
        "    for line in file:\n",
        "        clear_line=line.replace(\"\\n\",'').replace(\" \",\"\").replace(\",\",\" \").replace(\"'\",\"\").strip()\n",
        "        word,emotion=clear_line.split(':')\n",
        "        if word in lemma:\n",
        "            emotion_list.append(emotion)\n",
        "            \n",
        "w1=Counter(emotion_list)\n",
        "print(w1)"
      ],
      "execution_count": 37,
      "outputs": [
        {
          "output_type": "stream",
          "text": [
            "Counter({'sad': 4, 'angry': 3, 'attracted': 3, 'fearful': 3, 'powerless': 3, 'singledout': 3, 'average': 2, 'free': 1, 'alone': 1, 'lost': 1, 'attached': 1, 'surprise': 1, 'adequate': 1, 'happy': 1, 'loved': 1, 'anxious': 1})\n"
          ],
          "name": "stdout"
        }
      ]
    },
    {
      "cell_type": "code",
      "metadata": {
        "id": "zhKfAX5YGY0H",
        "colab_type": "code",
        "colab": {
          "base_uri": "https://localhost:8080/",
          "height": 367
        },
        "outputId": "19954f7f-f168-4f72-925f-7e1ca28af5de"
      },
      "source": [
        "fig,ax=plt.subplots(figsize=(10,6))\n",
        "ax.bar(w1.keys(),w1.values())\n",
        "fig.autofmt_xdate()\n",
        "plt.show()"
      ],
      "execution_count": 38,
      "outputs": [
        {
          "output_type": "display_data",
          "data": {
            "image/png": "[encoded data removed]",
            "text/plain": [
              "<Figure size 720x432 with 1 Axes>"
            ]
          },
          "metadata": {
            "tags": [],
            "needs_background": "light"
          }
        }
      ]
    },
    {
      "cell_type": "code",
      "metadata": {
        "id": "tnxqh3SIGijC",
        "colab_type": "code",
        "colab": {
          "base_uri": "https://localhost:8080/",
          "height": 34
        },
        "outputId": "89a4cafb-5992-4075-f81f-af3422029c09"
      },
      "source": [
        "sia=SentimentIntensityAnalyzer()\n",
        "sia.polarity_scores(cleaned_after)"
      ],
      "execution_count": 39,
      "outputs": [
        {
          "output_type": "execute_result",
          "data": {
            "text/plain": [
              "{'compound': -0.9999, 'neg': 0.098, 'neu': 0.842, 'pos': 0.06}"
            ]
          },
          "metadata": {
            "tags": []
          },
          "execution_count": 39
        }
      ]
    },
    {
      "cell_type": "code",
      "metadata": {
        "id": "Wuyn2NSaGmgp",
        "colab_type": "code",
        "colab": {}
      },
      "source": [
        ""
      ],
      "execution_count": 39,
      "outputs": []
    },
    {
      "cell_type": "markdown",
      "metadata": {
        "id": "MYol8MK7GufQ",
        "colab_type": "text"
      },
      "source": [
        "# **2) Pick your choice of document and update the emotion document accordingly (you document words and associated emotion where applicable) and analyse the sentiments of people.**"
      ]
    },
    {
      "cell_type": "code",
      "metadata": {
        "id": "2JJ0pHYZGwWp",
        "colab_type": "code",
        "colab": {}
      },
      "source": [
        "text=''\n",
        "with open('NLP1.txt','r') as file:\n",
        "    for line in file:\n",
        "        text=text+''+line"
      ],
      "execution_count": 40,
      "outputs": []
    },
    {
      "cell_type": "code",
      "metadata": {
        "id": "N6O1NvEBIdqa",
        "colab_type": "code",
        "colab": {}
      },
      "source": [
        "text=text.replace('\\n',' ')"
      ],
      "execution_count": 41,
      "outputs": []
    },
    {
      "cell_type": "code",
      "metadata": {
        "id": "8W4HOnUqIiaw",
        "colab_type": "code",
        "colab": {
          "base_uri": "https://localhost:8080/",
          "height": 68
        },
        "outputId": "5cb3f5c1-5264-4736-e5fd-3e4542764071"
      },
      "source": [
        "lower=text.lower()\n",
        "cleaned=lower.translate(str.maketrans('?','.',string.punctuation))\n",
        "tokens=word_tokenize(cleaned,'english')\n",
        "print(len(tokens))\n",
        "\n",
        "words=[word for word in tokens if word not in stop_words]\n",
        "print(len(words))\n",
        "\n",
        "lemma=[WordNetLemmatizer().lemmatize(word) for word in words]\n",
        "print(len(lemma))"
      ],
      "execution_count": 42,
      "outputs": [
        {
          "output_type": "stream",
          "text": [
            "189\n",
            "104\n",
            "104\n"
          ],
          "name": "stdout"
        }
      ]
    },
    {
      "cell_type": "code",
      "metadata": {
        "id": "LKTIcninIlCe",
        "colab_type": "code",
        "colab": {
          "base_uri": "https://localhost:8080/",
          "height": 171
        },
        "outputId": "fa016718-7472-4f59-9200-7a63a73d5fff"
      },
      "source": [
        "cleaned"
      ],
      "execution_count": 43,
      "outputs": [
        {
          "output_type": "execute_result",
          "data": {
            "application/vnd.google.colaboratory.intrinsic+json": {
              "type": "string"
            },
            "text/plain": [
              "'many of the chinese accounts that mushroomed on social media this summer and spread false information about the border clash with india have been traced to pakistan in what is believed to be a coordinated disinformation campaign aimed at india  the india china border tensions starting in may and culminating in the june 15 clash in the galwan valley sparked a firstofitskind information war on social media where indian and chinese accounts on twitter facebook and youtube traded images and videos in an effort to both capture the narrative and the attention of the media the disinformation flowed both ways but what was unknown to consumers of the posts by chinese social media users is that many of the accounts that posed as chinabased users were actually pakistani accounts twitter is banned in china although it can be accessed using virtual private networks an analysis of some of the most active chinese accounts on the border clash on twitter found that these accounts previously had different profile names and handle names some of these accounts even had user bios that were earlier in urdu before morphing overnight into mandarin'"
            ]
          },
          "metadata": {
            "tags": []
          },
          "execution_count": 43
        }
      ]
    },
    {
      "cell_type": "code",
      "metadata": {
        "id": "gw6tjtl_IpNt",
        "colab_type": "code",
        "colab": {
          "base_uri": "https://localhost:8080/",
          "height": 54
        },
        "outputId": "e82d7ab6-71f8-4f55-d238-e722bb4154d2"
      },
      "source": [
        "print(lemma)"
      ],
      "execution_count": 44,
      "outputs": [
        {
          "output_type": "stream",
          "text": [
            "['many', 'chinese', 'account', 'mushroomed', 'social', 'medium', 'summer', 'spread', 'false', 'information', 'border', 'clash', 'india', 'traced', 'pakistan', 'believed', 'coordinated', 'disinformation', 'campaign', 'aimed', 'india', 'india', 'china', 'border', 'tension', 'starting', 'may', 'culminating', 'june', '15', 'clash', 'galwan', 'valley', 'sparked', 'firstofitskind', 'information', 'war', 'social', 'medium', 'indian', 'chinese', 'account', 'twitter', 'facebook', 'youtube', 'traded', 'image', 'video', 'effort', 'capture', 'narrative', 'attention', 'medium', 'disinformation', 'flowed', 'way', 'unknown', 'consumer', 'post', 'chinese', 'social', 'medium', 'user', 'many', 'account', 'posed', 'chinabased', 'user', 'actually', 'pakistani', 'account', 'twitter', 'banned', 'china', 'although', 'accessed', 'using', 'virtual', 'private', 'network', 'analysis', 'active', 'chinese', 'account', 'border', 'clash', 'twitter', 'found', 'account', 'previously', 'different', 'profile', 'name', 'handle', 'name', 'account', 'even', 'user', 'bios', 'earlier', 'urdu', 'morphing', 'overnight', 'mandarin']\n"
          ],
          "name": "stdout"
        }
      ]
    },
    {
      "cell_type": "code",
      "metadata": {
        "id": "0m3_JZ3yItEv",
        "colab_type": "code",
        "colab": {
          "base_uri": "https://localhost:8080/",
          "height": 34
        },
        "outputId": "c7319751-f135-47a3-cc7c-b0a5ef980ac4"
      },
      "source": [
        "# Get emotions text\n",
        "emotion_list = []\n",
        "with open('emotions1.txt', 'r') as file:\n",
        "    for line in file:\n",
        "        clear_line = line.replace('\\n', '').replace(',', '').replace(\"'\", '').strip()\n",
        "        word, emotion = clear_line.split(':')\n",
        "        if word in lemma:\n",
        "            emotion_list.append(emotion)\n",
        "\n",
        "w = Counter(emotion_list)\n",
        "print(w)"
      ],
      "execution_count": 56,
      "outputs": [
        {
          "output_type": "stream",
          "text": [
            "Counter({'social media': 3, ' false': 2, ' fight': 2, ' spread': 1, ' media': 1, 'fear': 1})\n"
          ],
          "name": "stdout"
        }
      ]
    },
    {
      "cell_type": "code",
      "metadata": {
        "id": "PFo-LqHHIxQl",
        "colab_type": "code",
        "colab": {
          "base_uri": "https://localhost:8080/",
          "height": 372
        },
        "outputId": "efbac327-3001-4a34-855c-afd59a678b6f"
      },
      "source": [
        "fig,ax=plt.subplots(figsize=(12,6))\n",
        "ax.bar(w.keys(),w.values())\n",
        "fig.autofmt_xdate()\n",
        "plt.show()"
      ],
      "execution_count": 57,
      "outputs": [
        {
          "output_type": "display_data",
          "data": {
            "image/png": "[encoded data removed]",
            "text/plain": [
              "<Figure size 864x432 with 1 Axes>"
            ]
          },
          "metadata": {
            "tags": [],
            "needs_background": "light"
          }
        }
      ]
    },
    {
      "cell_type": "code",
      "metadata": {
        "id": "6U3GOTTUI3Jz",
        "colab_type": "code",
        "colab": {
          "base_uri": "https://localhost:8080/",
          "height": 34
        },
        "outputId": "c9a97a6e-52f7-4b79-b653-75a8c4071723"
      },
      "source": [
        "sia.polarity_scores(cleaned)"
      ],
      "execution_count": 58,
      "outputs": [
        {
          "output_type": "execute_result",
          "data": {
            "text/plain": [
              "{'compound': -0.5123, 'neg': 0.043, 'neu': 0.937, 'pos': 0.02}"
            ]
          },
          "metadata": {
            "tags": []
          },
          "execution_count": 58
        }
      ]
    },
    {
      "cell_type": "code",
      "metadata": {
        "id": "kGzGYH740dCd",
        "colab_type": "code",
        "colab": {}
      },
      "source": [
        ""
      ],
      "execution_count": null,
      "outputs": []
    },
    {
      "cell_type": "markdown",
      "metadata": {
        "id": "aFWaOiWv0i7x",
        "colab_type": "text"
      },
      "source": [
        "### 3) Pick your own document (say A) and create BOW using a count vectorizer. Use another document (say B) and identify how many words of the B document are present in the BOW of A. "
      ]
    },
    {
      "cell_type": "code",
      "metadata": {
        "id": "vusavy1S0ovF",
        "colab_type": "code",
        "colab": {}
      },
      "source": [
        "s1= ['''Word vectorization is the process of mapping words to a set of real numbers or vectors. \n",
        "This is done to process the given words using machine learning techniques and extract relevant information from them \n",
        "such that it can be used in further predicting words. Vectorization is done by comparing a given word to the corpus\n",
        "(collection) of the available words.''']\n",
        "\n",
        "s2= ['''It is language modeling and feature learning technique. Word embedding is a way to perform mapping using a neural network.\n",
        "There are various word embedding models available such as word2vec (Google), Glove (Stanford) and fastest (Facebook).\n",
        "We are going to discuss about word2vec in this tutorial.Count vectorizer uses two of the following models as the base \n",
        "to vectorize the given words on the basis of frequency of words.''']"
      ],
      "execution_count": 69,
      "outputs": []
    },
    {
      "cell_type": "code",
      "metadata": {
        "id": "MYDqTreE08cJ",
        "colab_type": "code",
        "colab": {}
      },
      "source": [
        "from sklearn.feature_extraction.text import CountVectorizer"
      ],
      "execution_count": 70,
      "outputs": []
    },
    {
      "cell_type": "code",
      "metadata": {
        "id": "bqXKa29T0-za",
        "colab_type": "code",
        "colab": {
          "base_uri": "https://localhost:8080/",
          "height": 54
        },
        "outputId": "35d09b4f-a36d-4371-92ba-99235ce1a40a"
      },
      "source": [
        "cvect=CountVectorizer(stop_words=stopwords.words('english'))\n",
        "cvect.fit_transform(s1)\n",
        "print(cvect.get_feature_names())"
      ],
      "execution_count": 71,
      "outputs": [
        {
          "output_type": "stream",
          "text": [
            "['available', 'collection', 'comparing', 'corpus', 'done', 'extract', 'given', 'information', 'learning', 'machine', 'mapping', 'numbers', 'predicting', 'process', 'real', 'relevant', 'set', 'techniques', 'used', 'using', 'vectorization', 'vectors', 'word', 'words']\n"
          ],
          "name": "stdout"
        }
      ]
    },
    {
      "cell_type": "code",
      "metadata": {
        "id": "ioeopZPu1Cp7",
        "colab_type": "code",
        "colab": {
          "base_uri": "https://localhost:8080/",
          "height": 425
        },
        "outputId": "d208f761-8218-4667-a2d9-ff1dba0314dc"
      },
      "source": [
        "cvect.vocabulary_"
      ],
      "execution_count": 72,
      "outputs": [
        {
          "output_type": "execute_result",
          "data": {
            "text/plain": [
              "{'available': 0,\n",
              " 'collection': 1,\n",
              " 'comparing': 2,\n",
              " 'corpus': 3,\n",
              " 'done': 4,\n",
              " 'extract': 5,\n",
              " 'given': 6,\n",
              " 'information': 7,\n",
              " 'learning': 8,\n",
              " 'machine': 9,\n",
              " 'mapping': 10,\n",
              " 'numbers': 11,\n",
              " 'predicting': 12,\n",
              " 'process': 13,\n",
              " 'real': 14,\n",
              " 'relevant': 15,\n",
              " 'set': 16,\n",
              " 'techniques': 17,\n",
              " 'used': 18,\n",
              " 'using': 19,\n",
              " 'vectorization': 20,\n",
              " 'vectors': 21,\n",
              " 'word': 22,\n",
              " 'words': 23}"
            ]
          },
          "metadata": {
            "tags": []
          },
          "execution_count": 72
        }
      ]
    },
    {
      "cell_type": "code",
      "metadata": {
        "id": "_z2B6M0O1FtR",
        "colab_type": "code",
        "colab": {}
      },
      "source": [
        "cnew=cvect.transform(s2)\n",
        "cnew=cnew.toarray()"
      ],
      "execution_count": 73,
      "outputs": []
    },
    {
      "cell_type": "code",
      "metadata": {
        "id": "JqDfsEjQ1IPD",
        "colab_type": "code",
        "colab": {}
      },
      "source": [
        "import pandas as pd"
      ],
      "execution_count": 74,
      "outputs": []
    },
    {
      "cell_type": "code",
      "metadata": {
        "id": "3QmE8YeP1Laq",
        "colab_type": "code",
        "colab": {
          "base_uri": "https://localhost:8080/",
          "height": 100
        },
        "outputId": "0d486d97-1bd2-4bb9-e53e-a16a762d87df"
      },
      "source": [
        "rep=pd.DataFrame(cnew,columns=cvect.get_feature_names())\n",
        "rep"
      ],
      "execution_count": 75,
      "outputs": [
        {
          "output_type": "execute_result",
          "data": {
            "text/html": [
              "<div>\n",
              "<style scoped>\n",
              "    .dataframe tbody tr th:only-of-type {\n",
              "        vertical-align: middle;\n",
              "    }\n",
              "\n",
              "    .dataframe tbody tr th {\n",
              "        vertical-align: top;\n",
              "    }\n",
              "\n",
              "    .dataframe thead th {\n",
              "        text-align: right;\n",
              "    }\n",
              "</style>\n",
              "<table border=\"1\" class=\"dataframe\">\n",
              "  <thead>\n",
              "    <tr style=\"text-align: right;\">\n",
              "      <th></th>\n",
              "      <th>available</th>\n",
              "      <th>collection</th>\n",
              "      <th>comparing</th>\n",
              "      <th>corpus</th>\n",
              "      <th>done</th>\n",
              "      <th>extract</th>\n",
              "      <th>given</th>\n",
              "      <th>information</th>\n",
              "      <th>learning</th>\n",
              "      <th>machine</th>\n",
              "      <th>mapping</th>\n",
              "      <th>numbers</th>\n",
              "      <th>predicting</th>\n",
              "      <th>process</th>\n",
              "      <th>real</th>\n",
              "      <th>relevant</th>\n",
              "      <th>set</th>\n",
              "      <th>techniques</th>\n",
              "      <th>used</th>\n",
              "      <th>using</th>\n",
              "      <th>vectorization</th>\n",
              "      <th>vectors</th>\n",
              "      <th>word</th>\n",
              "      <th>words</th>\n",
              "    </tr>\n",
              "  </thead>\n",
              "  <tbody>\n",
              "    <tr>\n",
              "      <th>0</th>\n",
              "      <td>1</td>\n",
              "      <td>0</td>\n",
              "      <td>0</td>\n",
              "      <td>0</td>\n",
              "      <td>0</td>\n",
              "      <td>0</td>\n",
              "      <td>1</td>\n",
              "      <td>0</td>\n",
              "      <td>1</td>\n",
              "      <td>0</td>\n",
              "      <td>1</td>\n",
              "      <td>0</td>\n",
              "      <td>0</td>\n",
              "      <td>0</td>\n",
              "      <td>0</td>\n",
              "      <td>0</td>\n",
              "      <td>0</td>\n",
              "      <td>0</td>\n",
              "      <td>0</td>\n",
              "      <td>1</td>\n",
              "      <td>0</td>\n",
              "      <td>0</td>\n",
              "      <td>2</td>\n",
              "      <td>2</td>\n",
              "    </tr>\n",
              "  </tbody>\n",
              "</table>\n",
              "</div>"
            ],
            "text/plain": [
              "   available  collection  comparing  ...  vectors  word  words\n",
              "0          1           0          0  ...        0     2      2\n",
              "\n",
              "[1 rows x 24 columns]"
            ]
          },
          "metadata": {
            "tags": []
          },
          "execution_count": 75
        }
      ]
    },
    {
      "cell_type": "code",
      "metadata": {
        "id": "pzNYizVJ1OBT",
        "colab_type": "code",
        "colab": {
          "base_uri": "https://localhost:8080/",
          "height": 34
        },
        "outputId": "02c8e9fa-8066-4290-cebb-0e3eb9792355"
      },
      "source": [
        "cnew.sum() #total repetitive words(including that are repeated twice)"
      ],
      "execution_count": 76,
      "outputs": [
        {
          "output_type": "execute_result",
          "data": {
            "text/plain": [
              "9"
            ]
          },
          "metadata": {
            "tags": []
          },
          "execution_count": 76
        }
      ]
    },
    {
      "cell_type": "code",
      "metadata": {
        "id": "TuaXTTsc1QLz",
        "colab_type": "code",
        "colab": {
          "base_uri": "https://localhost:8080/",
          "height": 34
        },
        "outputId": "d770d99b-ee09-4448-a4f3-f2b34d360c77"
      },
      "source": [
        "cols=rep.columns\n",
        "dic={}\n",
        "for col in cols:\n",
        "    if rep[col].sum()>=1:\n",
        "        dic[col]=rep[col].sum()\n",
        "print(dic)"
      ],
      "execution_count": 77,
      "outputs": [
        {
          "output_type": "stream",
          "text": [
            "{'available': 1, 'given': 1, 'learning': 1, 'mapping': 1, 'using': 1, 'word': 2, 'words': 2}\n"
          ],
          "name": "stdout"
        }
      ]
    },
    {
      "cell_type": "code",
      "metadata": {
        "id": "yqtpb3bw1gyr",
        "colab_type": "code",
        "colab": {
          "base_uri": "https://localhost:8080/",
          "height": 34
        },
        "outputId": "5a6b47d6-5d74-4f8c-b895-3f29fb0a0985"
      },
      "source": [
        "len(dic.keys()) #total repetitive words "
      ],
      "execution_count": 78,
      "outputs": [
        {
          "output_type": "execute_result",
          "data": {
            "text/plain": [
              "7"
            ]
          },
          "metadata": {
            "tags": []
          },
          "execution_count": 78
        }
      ]
    },
    {
      "cell_type": "code",
      "metadata": {
        "id": "L-F4Ca6x1o4x",
        "colab_type": "code",
        "colab": {}
      },
      "source": [
        ""
      ],
      "execution_count": null,
      "outputs": []
    }
  ]
}